{
 "cells": [
  {
   "cell_type": "code",
   "execution_count": 2,
   "metadata": {},
   "outputs": [],
   "source": [
    "import numpy as np, matplotlib.pyplot as plt\n",
    "from matplotlib import animation, cm\n",
    "from matplotlib.animation import PillowWriter"
   ]
  },
  {
   "cell_type": "markdown",
   "metadata": {},
   "source": [
    "The Spaciotemporal change for a species over time can be described as $$\\frac{\\partial \\rho}{\\partial t}=D\\nabla^2\\rho+\\alpha (\\vec r) \\rho-\\beta \\rho^2$$ where\n",
    "- $\\rho=\\rho(\\vec r, t)$ is the Number Density of a species at a Position $\\vec r$ and Time $t$.\n",
    "- $D$ is the Diffusion Rate.\n",
    "- $\\alpha=\\alpha(\\vec r)$ is the Abundance of Resources at Position $\\vec r$.\n",
    "- The Rightmost term represents the Death of a Species, through both natural causes and competition among other organisms. "
   ]
  }
 ],
 "metadata": {
  "kernelspec": {
   "display_name": "Python 3.9.13 64-bit (microsoft store)",
   "language": "python",
   "name": "python3"
  },
  "language_info": {
   "codemirror_mode": {
    "name": "ipython",
    "version": 3
   },
   "file_extension": ".py",
   "mimetype": "text/x-python",
   "name": "python",
   "nbconvert_exporter": "python",
   "pygments_lexer": "ipython3",
   "version": "3.9.13"
  },
  "orig_nbformat": 4,
  "vscode": {
   "interpreter": {
    "hash": "970a2a4939579a4c22872227820a264ec023ee5692739211cbaca24386397975"
   }
  }
 },
 "nbformat": 4,
 "nbformat_minor": 2
}
