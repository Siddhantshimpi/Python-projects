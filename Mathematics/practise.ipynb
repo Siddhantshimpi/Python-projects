{
 "cells": [
  {
   "cell_type": "markdown",
   "metadata": {},
   "source": [
    "# Assignment 1"
   ]
  },
  {
   "cell_type": "markdown",
   "metadata": {},
   "source": [
    "## Question 1:"
   ]
  },
  {
   "cell_type": "code",
   "execution_count": 14,
   "metadata": {},
   "outputs": [
    {
     "name": "stdout",
     "output_type": "stream",
     "text": [
      "25333\n"
     ]
    }
   ],
   "source": [
    "sum = 0\n",
    "\n",
    "for i in range(11):\n",
    "    sum += i ** 4\n",
    "\n",
    "print(sum)"
   ]
  },
  {
   "cell_type": "markdown",
   "metadata": {},
   "source": [
    "## Question 2:"
   ]
  },
  {
   "cell_type": "code",
   "execution_count": 15,
   "metadata": {},
   "outputs": [
    {
     "data": {
      "text/plain": [
       "(17, 98, 979, 25333)"
      ]
     },
     "execution_count": 15,
     "metadata": {},
     "output_type": "execute_result"
    }
   ],
   "source": [
    "def compute_sum(n):\n",
    "    sum = 0\n",
    "    for i in range(n + 1):\n",
    "        sum += i ** 4\n",
    "    return sum\n",
    "\n",
    "compute_sum(2), compute_sum(3), compute_sum(5), compute_sum(10)"
   ]
  },
  {
   "cell_type": "markdown",
   "metadata": {},
   "source": [
    "## Question 3:"
   ]
  },
  {
   "cell_type": "code",
   "execution_count": 17,
   "metadata": {},
   "outputs": [
    {
     "data": {
      "text/plain": [
       "(True, True, False)"
      ]
     },
     "execution_count": 17,
     "metadata": {},
     "output_type": "execute_result"
    }
   ],
   "source": [
    "def divisible_by_27(n):\n",
    "    return True if n % 27 == 0 else False\n",
    "\n",
    "divisible_by_27(27), divisible_by_27(54), divisible_by_27(55)"
   ]
  },
  {
   "cell_type": "markdown",
   "metadata": {},
   "source": [
    "## Question 4:"
   ]
  },
  {
   "cell_type": "code",
   "execution_count": 21,
   "metadata": {},
   "outputs": [
    {
     "data": {
      "text/plain": [
       "(40, 21781332)"
      ]
     },
     "execution_count": 21,
     "metadata": {},
     "output_type": "execute_result"
    }
   ],
   "source": [
    "n = 1\n",
    "while True:\n",
    "    if divisible_by_27(compute_sum(n)):\n",
    "        break\n",
    "    n += 1\n",
    "\n",
    "n, compute_sum(n)"
   ]
  },
  {
   "cell_type": "markdown",
   "metadata": {},
   "source": [
    "## Question 5:"
   ]
  },
  {
   "cell_type": "code",
   "execution_count": 23,
   "metadata": {},
   "outputs": [
    {
     "data": {
      "text/plain": [
       "(40, 256)"
      ]
     },
     "execution_count": 23,
     "metadata": {},
     "output_type": "execute_result"
    }
   ],
   "source": [
    "def sum_divisible_by_m(m):\n",
    "    n = 1\n",
    "    while True:\n",
    "        if compute_sum(n) % m == 0:\n",
    "            break\n",
    "        n += 1\n",
    "    return n\n",
    "    \n",
    "sum_divisible_by_m(27), sum_divisible_by_m(160)"
   ]
  },
  {
   "cell_type": "markdown",
   "metadata": {},
   "source": [
    "# Assignment 2"
   ]
  },
  {
   "cell_type": "code",
   "execution_count": 4,
   "metadata": {},
   "outputs": [],
   "source": [
    "import numpy as np, matplotlib.pyplot as plt\n",
    "plt.style.use(['science','notebook','grid', 'dark_background'])"
   ]
  },
  {
   "cell_type": "markdown",
   "metadata": {},
   "source": [
    "## Question 1:"
   ]
  },
  {
   "cell_type": "code",
   "execution_count": 11,
   "metadata": {},
   "outputs": [
    {
     "data": {
      "text/plain": [
       "array([1.00000000e+00, 9.75156085e-01, 9.50930337e-01, 9.27308273e-01,\n",
       "       9.04275705e-01, 8.81818732e-01, 8.59923738e-01, 8.38577388e-01,\n",
       "       8.17766626e-01, 7.97478665e-01, 7.77700990e-01, 7.58421349e-01,\n",
       "       7.39627751e-01, 7.21308462e-01, 7.03452001e-01, 6.86047134e-01,\n",
       "       6.69082872e-01, 6.52548468e-01, 6.36433410e-01, 6.20727417e-01,\n",
       "       6.05420440e-01, 5.90502650e-01, 5.75964443e-01, 5.61796427e-01,\n",
       "       5.47989426e-01, 5.34534472e-01, 5.21422801e-01, 5.08645850e-01,\n",
       "       4.96195254e-01, 4.84062841e-01, 4.72240630e-01, 4.60720825e-01,\n",
       "       4.49495813e-01, 4.38558158e-01, 4.27900604e-01, 4.17516061e-01,\n",
       "       4.07397613e-01, 3.97538504e-01, 3.87932144e-01, 3.78572098e-01,\n",
       "       3.69452087e-01, 3.60565984e-01, 3.51907810e-01, 3.43471732e-01,\n",
       "       3.35252059e-01, 3.27243239e-01, 3.19439857e-01, 3.11836629e-01,\n",
       "       3.04428404e-01, 2.97210156e-01, 2.90176986e-01, 2.83324115e-01,\n",
       "       2.76646884e-01, 2.70140749e-01, 2.63801282e-01, 2.57624165e-01,\n",
       "       2.51605188e-01, 2.45740248e-01, 2.40025346e-01, 2.34456583e-01,\n",
       "       2.29030160e-01, 2.23742375e-01, 2.18589619e-01, 2.13568376e-01,\n",
       "       2.08675219e-01, 2.03906811e-01, 1.99259897e-01, 1.94731310e-01,\n",
       "       1.90317961e-01, 1.86016843e-01, 1.81825026e-01, 1.77739655e-01,\n",
       "       1.73757950e-01, 1.69877202e-01, 1.66094775e-01, 1.62408098e-01,\n",
       "       1.58814671e-01, 1.55312055e-01, 1.51897878e-01, 1.48569830e-01,\n",
       "       1.45325658e-01, 1.42163173e-01, 1.39080240e-01, 1.36074781e-01,\n",
       "       1.33144773e-01, 1.30288247e-01, 1.27503284e-01, 1.24788017e-01,\n",
       "       1.22140628e-01, 1.19559347e-01, 1.17042452e-01, 1.14588264e-01,\n",
       "       1.12195151e-01, 1.09861523e-01, 1.07585833e-01, 1.05366573e-01,\n",
       "       1.03202279e-01, 1.01091522e-01, 9.90329122e-02, 9.70250983e-02,\n",
       "       9.50667635e-02, 9.31566264e-02, 9.12934399e-02, 8.94759901e-02,\n",
       "       8.77030955e-02, 8.59736060e-02, 8.42864024e-02, 8.26403952e-02,\n",
       "       8.10345243e-02, 7.94677577e-02, 7.79390909e-02, 7.64475466e-02,\n",
       "       7.49921733e-02, 7.35720452e-02, 7.21862611e-02, 7.08339439e-02,\n",
       "       6.95142402e-02, 6.82263191e-02, 6.69693723e-02, 6.57426129e-02,\n",
       "       6.45452751e-02, 6.33766136e-02, 6.22359032e-02, 6.11224378e-02,\n",
       "       6.00355305e-02, 5.89745128e-02, 5.79387337e-02, 5.69275602e-02,\n",
       "       5.59403757e-02, 5.49765804e-02, 5.40355906e-02, 5.31168380e-02,\n",
       "       5.22197697e-02, 5.13438474e-02, 5.04885474e-02, 4.96533598e-02,\n",
       "       4.88377886e-02, 4.80413507e-02, 4.72635763e-02, 4.65040079e-02,\n",
       "       4.57622002e-02, 4.50377201e-02, 4.43301458e-02, 4.36390667e-02,\n",
       "       4.29640834e-02, 4.23048071e-02, 4.16608594e-02, 4.10318717e-02,\n",
       "       4.04174858e-02, 3.98173526e-02, 3.92311324e-02, 3.86584948e-02,\n",
       "       3.80991179e-02, 3.75526887e-02, 3.70189023e-02, 3.64974620e-02,\n",
       "       3.59880792e-02, 3.54904727e-02, 3.50043691e-02, 3.45295020e-02,\n",
       "       3.40656125e-02, 3.36124482e-02, 3.31697637e-02, 3.27373201e-02,\n",
       "       3.23148849e-02, 3.19022317e-02, 3.14991404e-02, 3.11053966e-02,\n",
       "       3.07207917e-02, 3.03451226e-02, 2.99781918e-02, 2.96198071e-02,\n",
       "       2.92697813e-02, 2.89279323e-02, 2.85940831e-02, 2.82680612e-02,\n",
       "       2.79496989e-02, 2.76388330e-02, 2.73353046e-02, 2.70389594e-02,\n",
       "       2.67496471e-02, 2.64672214e-02, 2.61915402e-02, 2.59224651e-02,\n",
       "       2.56598616e-02, 2.54035989e-02, 2.51535497e-02, 2.49095903e-02,\n",
       "       2.46716005e-02, 2.44394632e-02, 2.42130648e-02, 2.39922948e-02,\n",
       "       2.37770458e-02, 2.35672134e-02, 2.33626961e-02, 2.31633956e-02,\n",
       "       2.29692160e-02, 2.27800645e-02, 2.25958507e-02, 2.24164871e-02,\n",
       "       2.22418885e-02, 2.20719725e-02, 2.19066589e-02, 2.17458700e-02,\n",
       "       2.15895305e-02, 2.14375674e-02, 2.12899098e-02, 2.11464891e-02,\n",
       "       2.10072389e-02, 2.08720947e-02, 2.07409944e-02, 2.06138776e-02,\n",
       "       2.04906860e-02, 2.03713633e-02, 2.02558551e-02, 2.01441087e-02,\n",
       "       2.00360735e-02, 1.99317004e-02, 1.98309423e-02, 1.97337537e-02,\n",
       "       1.96400909e-02, 1.95499118e-02, 1.94631759e-02, 1.93798445e-02,\n",
       "       1.92998804e-02, 1.92232478e-02, 1.91499128e-02, 1.90798426e-02,\n",
       "       1.90130063e-02, 1.89493741e-02, 1.88889181e-02, 1.88316115e-02,\n",
       "       1.87774291e-02, 1.87263469e-02, 1.86783425e-02, 1.86333948e-02,\n",
       "       1.85914842e-02, 1.85525922e-02, 1.85167017e-02, 1.84837972e-02,\n",
       "       1.84538642e-02, 1.84268896e-02, 1.84028617e-02, 1.83817700e-02,\n",
       "       1.83636053e-02, 1.83483596e-02, 1.83360264e-02, 1.83266003e-02,\n",
       "       1.83200771e-02, 1.83164540e-02, 1.83157295e-02, 1.83179031e-02,\n",
       "       1.83229760e-02, 1.83309503e-02, 1.83418294e-02, 1.83556180e-02,\n",
       "       1.83723223e-02, 1.83919495e-02, 1.84145080e-02, 1.84400079e-02,\n",
       "       1.84684601e-02, 1.84998772e-02, 1.85342728e-02, 1.85716619e-02,\n",
       "       1.86120611e-02, 1.86554878e-02, 1.87019613e-02, 1.87515019e-02,\n",
       "       1.88041313e-02, 1.88598728e-02, 1.89187508e-02, 1.89807915e-02,\n",
       "       1.90460221e-02, 1.91144715e-02, 1.91861702e-02, 1.92611498e-02,\n",
       "       1.93394438e-02, 1.94210871e-02, 1.95061159e-02, 1.95945684e-02,\n",
       "       1.96864843e-02, 1.97819046e-02, 1.98808724e-02, 1.99834322e-02,\n",
       "       2.00896303e-02, 2.01995149e-02, 2.03131357e-02, 2.04305445e-02,\n",
       "       2.05517947e-02, 2.06769417e-02, 2.08060429e-02, 2.09391575e-02,\n",
       "       2.10763467e-02, 2.12176740e-02, 2.13632048e-02, 2.15130064e-02,\n",
       "       2.16671487e-02, 2.18257036e-02, 2.19887453e-02, 2.21563502e-02,\n",
       "       2.23285974e-02, 2.25055680e-02, 2.26873459e-02, 2.28740175e-02,\n",
       "       2.30656716e-02, 2.32623998e-02, 2.34642966e-02, 2.36714589e-02,\n",
       "       2.38839868e-02, 2.41019830e-02, 2.43255536e-02, 2.45548074e-02,\n",
       "       2.47898566e-02, 2.50308164e-02, 2.52778054e-02, 2.55309457e-02,\n",
       "       2.57903626e-02, 2.60561854e-02, 2.63285465e-02, 2.66075824e-02,\n",
       "       2.68934334e-02, 2.71862436e-02, 2.74861614e-02, 2.77933389e-02,\n",
       "       2.81079329e-02, 2.84301043e-02, 2.87600187e-02, 2.90978459e-02,\n",
       "       2.94437608e-02, 2.97979430e-02, 3.01605771e-02, 3.05318526e-02,\n",
       "       3.09119646e-02, 3.13011132e-02, 3.16995044e-02, 3.21073494e-02,\n",
       "       3.25248657e-02, 3.29522764e-02, 3.33898110e-02, 3.38377051e-02,\n",
       "       3.42962010e-02, 3.47655473e-02, 3.52459998e-02, 3.57378212e-02,\n",
       "       3.62412812e-02, 3.67566571e-02, 3.72842339e-02, 3.78243041e-02,\n",
       "       3.83771685e-02, 3.89431361e-02, 3.95225242e-02, 4.01156590e-02,\n",
       "       4.07228756e-02, 4.13445182e-02, 4.19809404e-02, 4.26325058e-02,\n",
       "       4.32995876e-02, 4.39825695e-02, 4.46818456e-02, 4.53978209e-02,\n",
       "       4.61309113e-02, 4.68815444e-02, 4.76501594e-02, 4.84372076e-02,\n",
       "       4.92431526e-02, 5.00684709e-02, 5.09136518e-02, 5.17791983e-02,\n",
       "       5.26656273e-02, 5.35734696e-02, 5.45032707e-02, 5.54555912e-02,\n",
       "       5.64310071e-02, 5.74301102e-02, 5.84535084e-02, 5.95018265e-02,\n",
       "       6.05757066e-02, 6.16758082e-02, 6.28028091e-02, 6.39574056e-02,\n",
       "       6.51403134e-02, 6.63522675e-02, 6.75940236e-02, 6.88663579e-02,\n",
       "       7.01700678e-02, 7.15059730e-02, 7.28749155e-02, 7.42777605e-02,\n",
       "       7.57153970e-02, 7.71887385e-02, 7.86987235e-02, 8.02463164e-02,\n",
       "       8.18325079e-02, 8.34583162e-02, 8.51247872e-02, 8.68329957e-02,\n",
       "       8.85840460e-02, 9.03790726e-02, 9.22192410e-02, 9.41057490e-02,\n",
       "       9.60398269e-02, 9.80227389e-02, 1.00055784e-01, 1.02140296e-01,\n",
       "       1.04277646e-01, 1.06469242e-01, 1.08716531e-01, 1.11020999e-01,\n",
       "       1.13384174e-01, 1.15807623e-01, 1.18292957e-01, 1.20841833e-01,\n",
       "       1.23455949e-01, 1.26137053e-01, 1.28886938e-01, 1.31707446e-01,\n",
       "       1.34600470e-01, 1.37567954e-01, 1.40611894e-01, 1.43734340e-01,\n",
       "       1.46937398e-01, 1.50223230e-01, 1.53594058e-01, 1.57052161e-01,\n",
       "       1.60599882e-01, 1.64239626e-01, 1.67973861e-01, 1.71805123e-01,\n",
       "       1.75736015e-01, 1.79769210e-01, 1.83907452e-01, 1.88153559e-01,\n",
       "       1.92510421e-01, 1.96981008e-01, 2.01568367e-01, 2.06275627e-01,\n",
       "       2.11105997e-01, 2.16062775e-01, 2.21149340e-01, 2.26369166e-01,\n",
       "       2.31725813e-01, 2.37222937e-01, 2.42864288e-01, 2.48653716e-01,\n",
       "       2.54595168e-01, 2.60692695e-01, 2.66950454e-01, 2.73372709e-01,\n",
       "       2.79963831e-01, 2.86728307e-01, 2.93670738e-01, 3.00795842e-01,\n",
       "       3.08108458e-01, 3.15613549e-01, 3.23316202e-01, 3.31221634e-01,\n",
       "       3.39335195e-01, 3.47662368e-01, 3.56208773e-01, 3.64980174e-01,\n",
       "       3.73982474e-01, 3.83221728e-01, 3.92704137e-01, 4.02436057e-01,\n",
       "       4.12424001e-01, 4.22674642e-01, 4.33194816e-01, 4.43991523e-01,\n",
       "       4.55071939e-01, 4.66443407e-01, 4.78113452e-01, 4.90089778e-01,\n",
       "       5.02380273e-01, 5.14993013e-01, 5.27936266e-01, 5.41218496e-01,\n",
       "       5.54848365e-01, 5.68834739e-01, 5.83186691e-01, 5.97913502e-01,\n",
       "       6.13024671e-01, 6.28529914e-01, 6.44439169e-01, 6.60762601e-01,\n",
       "       6.77510605e-01, 6.94693811e-01, 7.12323086e-01, 7.30409542e-01,\n",
       "       7.48964534e-01, 7.67999671e-01, 7.87526814e-01, 8.07558084e-01,\n",
       "       8.28105864e-01, 8.49182805e-01, 8.70801827e-01, 8.92976127e-01,\n",
       "       9.15719178e-01, 9.39044738e-01, 9.62966852e-01, 9.87499855e-01,\n",
       "       1.01265838e+00, 1.03845734e+00, 1.06491199e+00, 1.09203785e+00,\n",
       "       1.11985077e+00, 1.14836691e+00, 1.17760274e+00, 1.20757507e+00,\n",
       "       1.23830102e+00, 1.26979803e+00, 1.30208389e+00, 1.33517671e+00,\n",
       "       1.36909493e+00, 1.40385735e+00, 1.43948310e+00, 1.47599166e+00,\n",
       "       1.51340285e+00, 1.55173684e+00, 1.59101417e+00, 1.63125572e+00,\n",
       "       1.67248272e+00, 1.71471677e+00, 1.75797983e+00, 1.80229422e+00,\n",
       "       1.84768260e+00, 1.89416804e+00, 1.94177392e+00, 1.99052402e+00,\n",
       "       2.04044248e+00, 2.09155378e+00, 2.14388281e+00, 2.19745477e+00,\n",
       "       2.25229525e+00, 2.30843021e+00, 2.36588596e+00, 2.42468915e+00,\n",
       "       2.48486681e+00, 2.54644631e+00, 2.60945538e+00, 2.67392209e+00,\n",
       "       2.73987485e+00, 2.80734242e+00, 2.87635388e+00, 2.94693864e+00,\n",
       "       3.01912646e+00, 3.09294738e+00, 3.16843179e+00, 3.24561035e+00,\n",
       "       3.32451404e+00, 3.40517413e+00, 3.48762217e+00, 3.57188997e+00,\n",
       "       3.65800963e+00, 3.74601348e+00, 3.83593410e+00, 3.92780432e+00,\n",
       "       4.02165718e+00, 4.11752591e+00, 4.21544398e+00, 4.31544500e+00,\n",
       "       4.41756277e+00, 4.52183126e+00, 4.62828454e+00, 4.73695685e+00,\n",
       "       4.84788250e+00, 4.96109590e+00, 5.07663156e+00, 5.19452400e+00,\n",
       "       5.31480780e+00, 5.43751755e+00, 5.56268784e+00, 5.69035323e+00,\n",
       "       5.82054821e+00, 5.95330723e+00, 6.08866463e+00, 6.22665463e+00,\n",
       "       6.36731130e+00, 6.51066854e+00, 6.65676007e+00, 6.80561937e+00,\n",
       "       6.95727968e+00, 7.11177394e+00, 7.26913480e+00, 7.42939457e+00,\n",
       "       7.59258517e+00, 7.75873815e+00, 7.92788461e+00, 8.10005517e+00,\n",
       "       8.27527998e+00, 8.45358863e+00, 8.63501017e+00, 8.81957302e+00,\n",
       "       9.00730498e+00, 9.19823316e+00, 9.39238397e+00, 9.58978306e+00,\n",
       "       9.79045530e+00, 9.99442474e+00, 1.02017145e+01, 1.04123470e+01,\n",
       "       1.06263434e+01, 1.08437240e+01, 1.10645083e+01, 1.12887144e+01,\n",
       "       1.15163596e+01, 1.17474596e+01, 1.19820294e+01, 1.22200825e+01,\n",
       "       1.24616312e+01, 1.27066864e+01, 1.29552577e+01, 1.32073533e+01,\n",
       "       1.34629799e+01, 1.37221428e+01, 1.39848457e+01, 1.42510907e+01,\n",
       "       1.45208783e+01, 1.47942073e+01, 1.50710750e+01, 1.53514767e+01,\n",
       "       1.56354059e+01, 1.59228546e+01, 1.62138127e+01, 1.65082680e+01,\n",
       "       1.68062068e+01, 1.71076130e+01, 1.74124688e+01, 1.77207541e+01,\n",
       "       1.80324468e+01, 1.83475228e+01, 1.86659555e+01, 1.89877165e+01,\n",
       "       1.93127749e+01, 1.96410975e+01, 1.99726491e+01, 2.03073919e+01,\n",
       "       2.06452859e+01, 2.09862886e+01, 2.13303553e+01, 2.16774387e+01,\n",
       "       2.20274890e+01, 2.23804542e+01, 2.27362796e+01, 2.30949082e+01,\n",
       "       2.34562802e+01, 2.38203335e+01, 2.41870034e+01, 2.45562227e+01,\n",
       "       2.49279215e+01, 2.53020276e+01, 2.56784661e+01, 2.60571595e+01,\n",
       "       2.64380277e+01, 2.68209883e+01, 2.72059561e+01, 2.75928435e+01,\n",
       "       2.79815604e+01, 2.83720140e+01, 2.87641092e+01, 2.91577484e+01,\n",
       "       2.95528315e+01, 2.99492561e+01, 3.03469171e+01, 3.07457073e+01,\n",
       "       3.11455171e+01, 3.15462345e+01, 3.19477455e+01, 3.23499335e+01,\n",
       "       3.27526800e+01, 3.31558643e+01, 3.35593635e+01, 3.39630527e+01,\n",
       "       3.43668052e+01, 3.47704921e+01, 3.51739828e+01, 3.55771448e+01,\n",
       "       3.59798441e+01, 3.63819446e+01, 3.67833090e+01, 3.71837982e+01,\n",
       "       3.75832717e+01, 3.79815878e+01, 3.83786032e+01, 3.87741737e+01,\n",
       "       3.91681536e+01, 3.95603963e+01, 3.99507545e+01, 4.03390797e+01,\n",
       "       4.07252226e+01, 4.11090336e+01, 4.14903619e+01, 4.18690569e+01,\n",
       "       4.22449670e+01, 4.26179407e+01, 4.29878262e+01, 4.33544715e+01,\n",
       "       4.37177248e+01, 4.40774344e+01, 4.44334487e+01, 4.47856166e+01,\n",
       "       4.51337874e+01, 4.54778109e+01, 4.58175378e+01, 4.61528193e+01,\n",
       "       4.64835077e+01, 4.68094563e+01, 4.71305195e+01, 4.74465529e+01,\n",
       "       4.77574134e+01, 4.80629597e+01, 4.83630517e+01, 4.86575511e+01,\n",
       "       4.89463215e+01, 4.92292285e+01, 4.95061394e+01, 4.97769239e+01,\n",
       "       5.00414539e+01, 5.02996037e+01, 5.05512498e+01, 5.07962715e+01,\n",
       "       5.10345509e+01, 5.12659724e+01, 5.14904237e+01, 5.17077952e+01,\n",
       "       5.19179804e+01, 5.21208762e+01, 5.23163823e+01, 5.25044020e+01,\n",
       "       5.26848420e+01, 5.28576125e+01, 5.30226270e+01, 5.31798031e+01,\n",
       "       5.33290617e+01, 5.34703277e+01, 5.36035299e+01, 5.37286009e+01,\n",
       "       5.38454772e+01, 5.39540997e+01, 5.40544129e+01, 5.41463659e+01,\n",
       "       5.42299117e+01, 5.43050076e+01, 5.43716152e+01, 5.44297004e+01,\n",
       "       5.44792334e+01, 5.45201888e+01, 5.45525456e+01, 5.45762871e+01,\n",
       "       5.45914012e+01, 5.45978801e+01, 5.45957204e+01, 5.45849232e+01,\n",
       "       5.45654942e+01, 5.45374432e+01, 5.45007848e+01, 5.44555377e+01,\n",
       "       5.44017251e+01, 5.43393747e+01, 5.42685184e+01, 5.41891925e+01,\n",
       "       5.41014375e+01, 5.40052982e+01, 5.39008237e+01, 5.37880672e+01,\n",
       "       5.36670858e+01, 5.35379411e+01, 5.34006983e+01, 5.32554268e+01,\n",
       "       5.31021999e+01, 5.29410945e+01, 5.27721914e+01, 5.25955752e+01,\n",
       "       5.24113339e+01, 5.22195590e+01, 5.20203458e+01, 5.18137926e+01,\n",
       "       5.16000011e+01, 5.13790762e+01, 5.11511259e+01, 5.09162613e+01,\n",
       "       5.06745962e+01, 5.04262473e+01, 5.01713341e+01, 4.99099787e+01,\n",
       "       4.96423055e+01, 4.93684416e+01, 4.90885163e+01, 4.88026609e+01,\n",
       "       4.85110090e+01, 4.82136961e+01, 4.79108596e+01, 4.76026386e+01,\n",
       "       4.72891739e+01, 4.69706077e+01, 4.66470836e+01, 4.63187469e+01,\n",
       "       4.59857435e+01, 4.56482208e+01, 4.53063269e+01, 4.49602110e+01,\n",
       "       4.46100229e+01, 4.42559129e+01, 4.38980320e+01, 4.35365316e+01,\n",
       "       4.31715633e+01, 4.28032789e+01, 4.24318304e+01, 4.20573695e+01,\n",
       "       4.16800480e+01, 4.13000175e+01, 4.09174290e+01, 4.05324333e+01,\n",
       "       4.01451805e+01, 3.97558203e+01, 3.93645013e+01, 3.89713716e+01,\n",
       "       3.85765782e+01, 3.81802671e+01, 3.77825834e+01, 3.73836708e+01,\n",
       "       3.69836717e+01, 3.65827275e+01, 3.61809777e+01, 3.57785608e+01,\n",
       "       3.53756132e+01, 3.49722702e+01, 3.45686649e+01, 3.41649290e+01,\n",
       "       3.37611922e+01, 3.33575823e+01, 3.29542251e+01, 3.25512445e+01,\n",
       "       3.21487622e+01, 3.17468981e+01, 3.13457694e+01, 3.09454917e+01,\n",
       "       3.05461778e+01, 3.01479386e+01, 2.97508826e+01, 2.93551158e+01,\n",
       "       2.89607420e+01, 2.85678624e+01, 2.81765760e+01, 2.77869790e+01,\n",
       "       2.73991654e+01, 2.70132267e+01, 2.66292517e+01, 2.62473268e+01,\n",
       "       2.58675359e+01, 2.54899601e+01, 2.51146783e+01, 2.47417666e+01,\n",
       "       2.43712986e+01, 2.40033455e+01, 2.36379756e+01, 2.32752551e+01,\n",
       "       2.29152472e+01, 2.25580129e+01, 2.22036106e+01, 2.18520962e+01,\n",
       "       2.15035229e+01, 2.11579419e+01, 2.08154014e+01, 2.04759476e+01,\n",
       "       2.01396241e+01, 1.98064720e+01, 1.94765303e+01, 1.91498355e+01,\n",
       "       1.88264219e+01, 1.85063213e+01, 1.81895635e+01, 1.78761760e+01,\n",
       "       1.75661841e+01, 1.72596109e+01, 1.69564775e+01, 1.66568029e+01,\n",
       "       1.63606040e+01, 1.60678957e+01, 1.57786910e+01, 1.54930008e+01,\n",
       "       1.52108344e+01, 1.49321991e+01, 1.46571003e+01, 1.43855417e+01,\n",
       "       1.41175254e+01, 1.38530516e+01, 1.35921191e+01, 1.33347249e+01,\n",
       "       1.30808645e+01, 1.28305320e+01, 1.25837199e+01, 1.23404192e+01,\n",
       "       1.21006198e+01, 1.18643099e+01, 1.16314768e+01, 1.14021061e+01,\n",
       "       1.11761826e+01, 1.09536896e+01, 1.07346094e+01, 1.05189234e+01,\n",
       "       1.03066116e+01, 1.00976532e+01, 9.89202640e+00, 9.68970851e+00,\n",
       "       9.49067590e+00, 9.29490411e+00, 9.10236787e+00, 8.91304115e+00,\n",
       "       8.72689718e+00, 8.54390850e+00, 8.36404700e+00, 8.18728393e+00,\n",
       "       8.01358998e+00, 7.84293527e+00, 7.67528941e+00, 7.51062153e+00,\n",
       "       7.34890031e+00, 7.19009402e+00, 7.03417051e+00, 6.88109733e+00,\n",
       "       6.73084167e+00, 6.58337042e+00, 6.43865023e+00, 6.29664750e+00,\n",
       "       6.15732842e+00, 6.02065899e+00, 5.88660507e+00, 5.75513236e+00,\n",
       "       5.62620649e+00, 5.49979297e+00, 5.37585727e+00, 5.25436481e+00,\n",
       "       5.13528102e+00, 5.01857129e+00, 4.90420108e+00, 4.79213586e+00,\n",
       "       4.68234118e+00, 4.57478266e+00, 4.46942605e+00, 4.36623717e+00,\n",
       "       4.26518201e+00, 4.16622668e+00, 4.06933747e+00, 3.97448085e+00,\n",
       "       3.88162345e+00, 3.79073215e+00, 3.70177400e+00, 3.61471630e+00,\n",
       "       3.52952660e+00, 3.44617267e+00, 3.36462257e+00, 3.28484461e+00,\n",
       "       3.20680737e+00, 3.13047974e+00, 3.05583089e+00, 2.98283030e+00,\n",
       "       2.91144775e+00, 2.84165333e+00, 2.77341748e+00, 2.70671093e+00,\n",
       "       2.64150476e+00, 2.57777040e+00, 2.51547960e+00, 2.45460447e+00,\n",
       "       2.39511744e+00, 2.33699133e+00, 2.28019929e+00, 2.22471483e+00,\n",
       "       2.17051183e+00, 2.11756451e+00, 2.06584748e+00, 2.01533568e+00,\n",
       "       1.96600444e+00, 1.91782944e+00, 1.87078674e+00, 1.82485273e+00,\n",
       "       1.78000420e+00, 1.73621829e+00, 1.69347250e+00, 1.65174470e+00,\n",
       "       1.61101310e+00, 1.57125629e+00, 1.53245322e+00, 1.49458317e+00,\n",
       "       1.45762580e+00, 1.42156110e+00, 1.38636943e+00, 1.35203148e+00,\n",
       "       1.31852828e+00, 1.28584123e+00, 1.25395204e+00, 1.22284276e+00,\n",
       "       1.19249578e+00, 1.16289382e+00, 1.13401991e+00, 1.10585742e+00,\n",
       "       1.07839003e+00, 1.05160174e+00, 1.02547686e+00, 1.00000000e+00])"
      ]
     },
     "execution_count": 11,
     "metadata": {},
     "output_type": "execute_result"
    }
   ],
   "source": [
    "def f(x):\n",
    "    return np.exp(-4 * np.sin(2 * np.pi * x))\n",
    "\n",
    "x = np.linspace(0, 1, 1000)\n",
    "y = f(x)\n",
    "\n",
    "y"
   ]
  },
  {
   "cell_type": "code",
   "execution_count": 12,
   "metadata": {},
   "outputs": [
    {
     "data": {
      "text/plain": [
       "Text(0, 0.5, '$f(x)$')"
      ]
     },
     "execution_count": 12,
     "metadata": {},
     "output_type": "execute_result"
    },
    {
     "data": {
      "image/png": "[encoded data removed]",
      "text/plain": [
       "<Figure size 800x600 with 1 Axes>"
      ]
     },
     "metadata": {},
     "output_type": "display_data"
    }
   ],
   "source": [
    "plt.plot(x, y, label = r'$f(x)$', color = 'red')\n",
    "plt.title(r'$f(x) = \\exp[-4 \\sin(2 \\pi x)]$')\n",
    "plt.xlabel(r'$x$')\n",
    "plt.ylabel(r'$f(x)$')"
   ]
  },
  {
   "cell_type": "markdown",
   "metadata": {},
   "source": [
    "## Question 2:"
   ]
  },
  {
   "cell_type": "code",
   "execution_count": 8,
   "metadata": {},
   "outputs": [],
   "source": [
    "def f(x):\n",
    "    return np.exp(-4 * np.sin(2 * np.pi * x))\n",
    "\n",
    "# Approximate the integral of f(x) using the rectangle method\n",
    "\n",
    "def rectangle_method(f, a, b, n):\n",
    "    h = (b - a) / n\n",
    "    sum = 0\n",
    "    for i in range(n):\n",
    "        sum += f(a + i * h)\n",
    "    return h * sum"
   ]
  },
  {
   "cell_type": "code",
   "execution_count": 9,
   "metadata": {},
   "outputs": [
    {
     "data": {
      "text/plain": [
       "11.301921952136333"
      ]
     },
     "execution_count": 9,
     "metadata": {},
     "output_type": "execute_result"
    }
   ],
   "source": [
    "rectangle_method(f, 0, 1, 1000)"
   ]
  },
  {
   "cell_type": "markdown",
   "metadata": {},
   "source": []
  }
 ],
 "metadata": {
  "kernelspec": {
   "display_name": "Python 3",
   "language": "python",
   "name": "python3"
  },
  "language_info": {
   "codemirror_mode": {
    "name": "ipython",
    "version": 3
   },
   "file_extension": ".py",
   "mimetype": "text/x-python",
   "name": "python",
   "nbconvert_exporter": "python",
   "pygments_lexer": "ipython3",
   "version": "3.12.1"
  }
 },
 "nbformat": 4,
 "nbformat_minor": 2
}
