{
 "cells": [
  {
   "cell_type": "code",
   "execution_count": 12,
   "metadata": {},
   "outputs": [],
   "source": [
    "import pylab, copy\n",
    "\n",
    "from qiskit import BasicAer\n",
    "from qiskit.utils import algorithm_globals, QuantumInstance\n",
    "\n",
    "from qiskit_algorithms import NumPyMinimumEigensolver, VQE\n",
    "from qiskit_algorithms.optimizers import SLSQP\n",
    "\n",
    "from qiskit_nature.second_q.circuit.library import HartreeFock, UCCSD"
   ]
  },
  {
   "cell_type": "markdown",
   "metadata": {},
   "source": [
    "# The Variational Quantum Eigensolver:"
   ]
  },
  {
   "cell_type": "markdown",
   "metadata": {},
   "source": []
  }
 ],
 "metadata": {
  "kernelspec": {
   "display_name": "base",
   "language": "python",
   "name": "python3"
  },
  "language_info": {
   "codemirror_mode": {
    "name": "ipython",
    "version": 3
   },
   "file_extension": ".py",
   "mimetype": "text/x-python",
   "name": "python",
   "nbconvert_exporter": "python",
   "pygments_lexer": "ipython3",
   "version": "3.11.5"
  }
 },
 "nbformat": 4,
 "nbformat_minor": 2
}
