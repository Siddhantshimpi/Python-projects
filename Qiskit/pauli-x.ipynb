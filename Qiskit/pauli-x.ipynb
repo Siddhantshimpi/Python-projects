{
 "cells": [
  {
   "cell_type": "markdown",
   "metadata": {},
   "source": [
    "# Dirac Notations:"
   ]
  },
  {
   "cell_type": "markdown",
   "metadata": {},
   "source": [
    "Our quantumstates are represented as a superpsoition of the states $\\ket{0}$ and $\\ket{1}$, as $\\ket{\\psi}=\\alpha\\ket{0}+\\beta\\ket{1}$. where $\\alpha,\\beta\\in\\mathbb{C}$. Since the state is normalized, we have $|\\alpha|^2+|\\beta|^2=1$. The state $\\ket{0}$ is called the ground state and $\\ket{1}$ is called the excited state. The state $\\ket{\\psi}$ is called a qubit. "
   ]
  },
  {
   "cell_type": "markdown",
   "metadata": {},
   "source": [
    "The state $\\ket{0}$ is represented as $\\begin{bmatrix}1\\\\0\\end{bmatrix}$ and the state $\\ket{1}$ is represented as $\\begin{bmatrix}0\\\\1\\end{bmatrix}$. The state $\\ket{\\psi}$ is represented as $\\begin{bmatrix}\\alpha\\\\\\beta\\end{bmatrix}$."
   ]
  },
  {
   "cell_type": "markdown",
   "metadata": {},
   "source": [
    "# The Pauli-X (NOT) Gate: "
   ]
  },
  {
   "cell_type": "markdown",
   "metadata": {},
   "source": [
    "Some gates produce visual and/or mathemaical results. An example is the Pauli-X gate, which is the quantum equivalent of the classical NOT gate. The Pauli-X gate is represented by the following matrix: $$X=\\begin{bmatrix} 0 & 1 \\\\ 1 & 0 \\end{bmatrix}$$"
   ]
  },
  {
   "cell_type": "markdown",
   "metadata": {},
   "source": [
    "Hence, $$X\\begin{bmatrix} 1 \\\\ 0\\end{bmatrix}=\\begin{bmatrix} 0 & 1 \\\\ 1 & 0 \\end{bmatrix}\\begin{bmatrix} 1 \\\\ 0\\end{bmatrix}=\\begin{bmatrix} 0 \\\\ 1\\end{bmatrix}$$ and $$X\\begin{bmatrix} 0 \\\\ 1\\end{bmatrix}=\\begin{bmatrix} 0 & 1 \\\\ 1 & 0 \\end{bmatrix}\\begin{bmatrix} 0 \\\\ 1\\end{bmatrix}=\\begin{bmatrix} 1 \\\\ 0\\end{bmatrix}$$ so $X\\ket{0}= \\ket{1}$ and $X\\ket{1}= \\ket{0}$."
   ]
  },
  {
   "cell_type": "code",
   "execution_count": null,
   "metadata": {},
   "outputs": [],
   "source": []
  }
 ],
 "metadata": {
  "language_info": {
   "name": "python"
  }
 },
 "nbformat": 4,
 "nbformat_minor": 2
}
