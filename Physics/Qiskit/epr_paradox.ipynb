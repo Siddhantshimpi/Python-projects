{
 "cells": [
  {
   "cell_type": "code",
   "execution_count": null,
   "metadata": {},
   "outputs": [],
   "source": [
    "from qiskit import *\n",
    "from qiskit_aer import AerSimulator\n",
    "import matplotlib.pyplot as plt\n",
    "\n",
    "plt.style.use(['science', 'notebook', 'grid', 'dark_background'])"
   ]
  },
  {
   "cell_type": "markdown",
   "metadata": {},
   "source": [
    "The *Einstein-Padolsky-Rosen (EPR) Paradox* is a thought experiment that was proposed by Albert Einstein, Boris Podolsky, and Nathan Rosen in 1935, and is a critique of Copenhagen's Interpretation."
   ]
  }
 ],
 "metadata": {
  "kernelspec": {
   "display_name": "base",
   "language": "python",
   "name": "python3"
  },
  "language_info": {
   "name": "python",
   "version": "3.11.5"
  }
 },
 "nbformat": 4,
 "nbformat_minor": 2
}
