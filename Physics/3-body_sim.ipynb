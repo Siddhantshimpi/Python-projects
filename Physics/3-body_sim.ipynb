{
 "cells": [
  {
   "cell_type": "code",
   "execution_count": null,
   "metadata": {},
   "outputs": [],
   "source": [
    "import numpy as np, matplotlib.pyplot as plt\n",
    "from scipy.integrate import odeint\n",
    "from matplotlib import Animation\n",
    "\n",
    "plt.style.use(['science','notebook','grid', 'dark_background'])"
   ]
  },
  {
   "attachments": {},
   "cell_type": "markdown",
   "metadata": {},
   "source": [
    "For a collection of masses: $$\\frac{d^2 \\vec r_i}{dt^2}=\\sum_{j \\neq i}\\frac{Gm_j}{r^3_{ij}}\\vec r_{ij}$$\n",
    "where\n",
    "- $\\vec r_i$ is the position of the ith particle and $m_j$ is the mass of the jth particle\n",
    "- $\\vec r_{ij}=\\vec r_j-\\vec r_i$\n",
    "\n",
    "Converting to dimensionless quantities for python: $$\\frac{d^2 \\vec r'_i}{dt'^2}=\\sum_{j \\neq i}\\frac{Gm'_j}{r'^3_{ij}}\\vec r'_{ij}$$\n",
    "where\n",
    "- $\\vec r'_i=\\vec r_i/L$ and $L$ is some charachteristic length\n",
    "- $m'_j=m_j/M$ and $M$ is some charachteristic mass\n",
    "- $t'=t\\sqrt{GM/L^3}$"
   ]
  },
  {
   "attachments": {},
   "cell_type": "markdown",
   "metadata": {},
   "source": [
    "# A Simple Start: 2-Body Problem"
   ]
  },
  {
   "attachments": {},
   "cell_type": "markdown",
   "metadata": {},
   "source": [
    "Set\n",
    "- $M \\equiv M_E=5.97e+24$ Kilograms\n",
    "- $L \\equiv 1\\,AU=1.5e+11$ Meters"
   ]
  },
  {
   "cell_type": "code",
   "execution_count": null,
   "metadata": {},
   "outputs": [],
   "source": [
    "M_E = 5.97e+24\n",
    "\n",
    "m1 = M_E\n",
    "m2 = 333000 * M_E\n",
    "\n",
    "x1_0, y1_0, x2_0, y2_0 = 1, 0, 0, 0\n",
    "vx1_0, vy1_0, vx2_0, vy2_0 = 0, np.sqrt(m2), 0, 0"
   ]
  }
 ],
 "metadata": {
  "kernelspec": {
   "display_name": "Python 3",
   "language": "python",
   "name": "python3"
  },
  "language_info": {
   "name": "python",
   "version": "3.9.13 (tags/v3.9.13:6de2ca5, May 17 2022, 16:36:42) [MSC v.1929 64 bit (AMD64)]"
  },
  "orig_nbformat": 4,
  "vscode": {
   "interpreter": {
    "hash": "970a2a4939579a4c22872227820a264ec023ee5692739211cbaca24386397975"
   }
  }
 },
 "nbformat": 4,
 "nbformat_minor": 2
}
