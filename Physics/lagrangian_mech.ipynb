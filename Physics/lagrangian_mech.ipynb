{
 "cells": [
  {
   "cell_type": "code",
   "execution_count": 37,
   "metadata": {},
   "outputs": [],
   "source": [
    "import numpy as np, sympy as smp, matplotlib.pyplot as plt\n",
    "from scipy.integrate import odeint\n",
    "from matplotlib import animation\n",
    "from matplotlib.animation import PillowWriter\n",
    "\n",
    "plt.style.use(['science','notebook','grid', 'dark_background'])"
   ]
  },
  {
   "cell_type": "markdown",
   "metadata": {},
   "source": [
    "![Lagr_mech](l_diagram1.png)"
   ]
  },
  {
   "cell_type": "markdown",
   "metadata": {},
   "source": [
    "The entire system depends on only two angles $\\theta_1$ and $\\theta_2$."
   ]
  },
  {
   "cell_type": "code",
   "execution_count": 38,
   "metadata": {},
   "outputs": [],
   "source": [
    "t, g, l1, l2, m1, m2, m3, k, L0 = smp.symbols('t g l_1 l_2 m_1 m_2 m_3 k L_0')\n",
    "theta1, theta2 = smp.symbols(r'\\theta_1 \\theta_2', cls = smp.Function)"
   ]
  },
  {
   "cell_type": "code",
   "execution_count": 39,
   "metadata": {},
   "outputs": [],
   "source": [
    "theta1 = theta1(t)\n",
    "theta2 = theta2(t)\n",
    "\n",
    "theta1_d = smp.diff(theta1, t)\n",
    "theta2_d = smp.diff(theta2, t)\n",
    "\n",
    "theta1_dd = smp.diff(theta1_d, t)\n",
    "theta2_dd = smp.diff(theta2_d, t)"
   ]
  },
  {
   "cell_type": "code",
   "execution_count": 40,
   "metadata": {},
   "outputs": [],
   "source": [
    "x1 = l1 * smp.cos(theta1)\n",
    "y1 = -l1 * smp.sin(theta1)\n",
    "\n",
    "x2 = 2 * x1\n",
    "y2 = 0\n",
    "\n",
    "x3 = x2 + l2 * smp.sin(theta2)\n",
    "y3 = -l2 * smp.cos(theta2)"
   ]
  },
  {
   "cell_type": "markdown",
   "metadata": {},
   "source": [
    "Kinetic and Potential Energies:"
   ]
  },
  {
   "cell_type": "code",
   "execution_count": 41,
   "metadata": {},
   "outputs": [],
   "source": [
    "T = smp.Rational(1, 2) * m1 * (smp.diff(x1, t) ** 2 + smp.diff(y1, t) ** 2) + \\\n",
    "    smp.Rational(1, 2) * m2 * (smp.diff(x2, t) ** 2 + smp.diff(y2, t) ** 2) + \\\n",
    "    smp.Rational(1, 2) * m3 * (smp.diff(x3, t) ** 2 + smp.diff(y3, t) ** 2)\n",
    "\n",
    "V = m1 * g * y1 + m2 * g * y2 + m3 * g * y3 + smp.Rational(1, 2) * k * (x2 - L0) ** 2\n",
    "L = T - V"
   ]
  },
  {
   "cell_type": "markdown",
   "metadata": {},
   "source": [
    "Lagrange's Equations: $$\\frac{\\partial L}{\\partial \\theta_1}-\\frac{d}{dt}\\frac{\\partial L}{\\partial \\dot \\theta_1}=0$$ $$\\frac{\\partial L}{\\partial \\theta_2}-\\frac{d}{dt}\\frac{\\partial L}{\\partial \\dot \\theta_2}=0$$"
   ]
  },
  {
   "cell_type": "code",
   "execution_count": 42,
   "metadata": {},
   "outputs": [],
   "source": [
    "LE1 = smp.diff(L, theta1) - smp.diff(smp.diff(L, theta1_d), t).simplify() \n",
    "LE2 = smp.diff(L, theta2) - smp.diff(smp.diff(L, theta2_d), t).simplify() "
   ]
  },
  {
   "cell_type": "code",
   "execution_count": 43,
   "metadata": {},
   "outputs": [],
   "source": [
    "sols = smp.solve([LE1, LE2], (theta1_dd, theta2_dd), simplify = False, rational = False)"
   ]
  },
  {
   "cell_type": "markdown",
   "metadata": {},
   "source": [
    "Define $z_1 = \\dot \\theta_1$ and $z_2 = \\dot \\theta_2$ so that $$\\frac{dz_1}{dt}=\\ddot \\theta_1$$ $$\\frac{dz_2}{dt}=\\ddot \\theta_2$$ Also define $\\vec S=(\\theta_1, z_1, \\theta_2, z_2)$ so that $\\displaystyle \\frac{d \\vec S}{dt}(\\vec S, t)$ can be found."
   ]
  },
  {
   "cell_type": "code",
   "execution_count": 44,
   "metadata": {},
   "outputs": [],
   "source": [
    "dz1dt = smp.lambdify((t, g, k, L0, m1, m2, m3, l1, l2, theta1, theta2, theta1_d, theta2_d), sols[theta1_dd])\n",
    "dz2dt = smp.lambdify((t, g, k, L0, m1, m2, m3, l1, l2, theta1, theta2, theta1_d, theta2_d), sols[theta2_dd])\n",
    "\n",
    "dtheta1dt = smp.lambdify(theta1_d, theta1_d)\n",
    "dtheta2dt = smp.lambdify(theta2_d, theta2_d)"
   ]
  },
  {
   "cell_type": "code",
   "execution_count": 45,
   "metadata": {},
   "outputs": [],
   "source": [
    "def dSdt(S, t, g, k, L0, m1, m2, m3, l1, l2):\n",
    "    theta1, z1, theta2, z2 = S\n",
    "    return [\n",
    "        dtheta1dt(z1),\n",
    "        dz1dt(t, g, k, L0, m1, m2, m3, l1, l2, theta1, theta2, z1, z2),\n",
    "        dtheta2dt(z2),\n",
    "        dz2dt(t, g, k, L0, m1, m2, m3, l1, l2, theta1, theta2, z1, z2)\n",
    "    ]"
   ]
  },
  {
   "cell_type": "code",
   "execution_count": 46,
   "metadata": {},
   "outputs": [],
   "source": [
    "t = np.linspace(0, 40, 1001)\n",
    "\n",
    "g = 9.807\n",
    "k = 30\n",
    "\n",
    "m1 = 2\n",
    "m2 = 2\n",
    "m3 = 0.001\n",
    "\n",
    "l1 = 1 \n",
    "l2 = 1\n",
    "L0 = 1.5 * l1\n",
    "\n",
    "ans = odeint(dSdt, y0 = [1, -1, -1, 1], t = t, args = (g, k, L0, m1, m2, m3, l1, l2))"
   ]
  },
  {
   "cell_type": "code",
   "execution_count": 47,
   "metadata": {},
   "outputs": [],
   "source": [
    "theta1 = ans.T[0]\n",
    "theta2 = ans.T[2]"
   ]
  },
  {
   "cell_type": "markdown",
   "metadata": {},
   "source": [
    "Animation:"
   ]
  },
  {
   "cell_type": "code",
   "execution_count": 48,
   "metadata": {},
   "outputs": [],
   "source": [
    "def get_position(t, theta1, theta2, l1, l2):\n",
    "    return (l1 * np.cos(theta1),\n",
    "    -l1 * np.sin(theta1),\n",
    "    2 * l1 * np.cos(theta1),\n",
    "    np.zeros(len(theta1)),\n",
    "    2 * l1 * np.cos(theta1) + l2 * np.sin(theta2),\n",
    "    -l2 * np.cos(theta2))\n",
    "\n",
    "x1, y1, x2, y2, x3, y3 = get_position(t, ans.T[0], ans.T[2], l1, l2) # REPLACE"
   ]
  },
  {
   "cell_type": "code",
   "execution_count": 49,
   "metadata": {},
   "outputs": [
    {
     "data": {
      "image/png": "[encoded data removed]",
      "text/plain": [
       "<Figure size 800x800 with 1 Axes>"
      ]
     },
     "metadata": {},
     "output_type": "display_data"
    }
   ],
   "source": [
    "def animate(i):\n",
    "    ln1.set_data([0, x1[i], x2[i], x3[i]], [0, y1[i], y2[i], y3[i]])\n",
    "    ln2.set_data([0, x2[i]], [0, y2[i]])\n",
    "\n",
    "fig, ax = plt.subplots(1, 1, figsize = (8, 8))\n",
    "\n",
    "ax.set_facecolor('k')\n",
    "ax.get_xaxis().set_ticks([])\n",
    "ax.get_yaxis().set_ticks([])\n",
    "\n",
    "ln1, = plt.plot([], [], 'ro--', lw = 3, markersize = 8)\n",
    "ln2, = plt.plot([], [], 'ro--', lw = 3, markersize = 8)\n",
    "\n",
    "ax.set_xlim(-2, 2)\n",
    "ax.set_ylim(-2, 2)\n",
    "\n",
    "ani = animation.FuncAnimation(fig, animate, frames = 1000, interval = 50)\n",
    "ani.save('pen.gif', writer = 'pillow', fps = 25)"
   ]
  }
 ],
 "metadata": {
  "kernelspec": {
   "display_name": "Python 3.9.13 ('base')",
   "language": "python",
   "name": "python3"
  },
  "language_info": {
   "codemirror_mode": {
    "name": "ipython",
    "version": 3
   },
   "file_extension": ".py",
   "mimetype": "text/x-python",
   "name": "python",
   "nbconvert_exporter": "python",
   "pygments_lexer": "ipython3",
   "version": "3.9.13"
  },
  "orig_nbformat": 4,
  "vscode": {
   "interpreter": {
    "hash": "5ae58900cfbb8c43ab3495913814b7cf26024f51651a94ce8bf64d6111688e8d"
   }
  }
 },
 "nbformat": 4,
 "nbformat_minor": 2
}
