{
 "cells": [
  {
   "cell_type": "code",
   "execution_count": 1,
   "metadata": {},
   "outputs": [],
   "source": [
    "import numpy as np, sympy as smp\n",
    "from sympy.physics.quantum import TensorProduct\n",
    "from sympy.matrices import matrix_multiply_elementwise"
   ]
  },
  {
   "attachments": {},
   "cell_type": "markdown",
   "metadata": {},
   "source": [
    "# The Spin Matrices:"
   ]
  },
  {
   "attachments": {},
   "cell_type": "markdown",
   "metadata": {},
   "source": [
    "A *Quantum State* is $\\ket\\psi=\\sum C_a\\ket\\psi_a$ where $\\ket\\psi_a$ are the eigenvectors of some Operator $\\hat A$, which represents the observable $A$. This means that $$\\hat A\\ket\\psi_a=a\\ket\\psi_a$$\n",
    "\n",
    "- The Probability of measuring the eigenvalue $a$ is $|C_a|^2$. If $\\ket\\psi=\\ket\\psi_a$ (already an eigenvector state), then the probability of measuring $a$ is 1.\n",
    "- A particle with spin $1/2$ can either be spin up or spin down along some axis, so we can represent the Operator $\\hat S_z$ and its corresponding eigenvalues as $$\\begin{align*}\\hat S_z=\\frac 12\\begin{bmatrix}1&0\\\\0&-1\\end{bmatrix} && \\ket\\psi_{z,1/2}=\\begin{bmatrix}1\\\\0\\end{bmatrix} && \\ket\\psi_{z,-1/2}=\\begin{bmatrix}0\\\\1\\end{bmatrix}\\end{align*}$$ \n",
    "- In this basis, the Spin Matrix $\\hat S_z$ has the following form with the following eigenvectors (we **make** it so, so that a state with definite $z$-spin has a 50 % change of being spin up in $x$, and a 50 % change of being spin down in $x$ after being in a $z$-eigenstate): $$\\begin{align*}\\hat S_z=\\frac 12\\begin{bmatrix}0&1\\\\1&0\\end{bmatrix} && \\ket\\psi_{x,1/2}=\\frac 1{\\sqrt 2}\\begin{bmatrix}1\\\\1\\end{bmatrix} && \\ket\\psi_{x,-1/2}=\\frac 1{\\sqrt 2}\\begin{bmatrix}1\\\\-1\\end{bmatrix}\\end{align*}$$ \n",
    "- This follows directly from the *Stern-Gerlach Experiment,* where a beam of $\\ket\\psi_{z,1/2}$ particles were found to have a 50 % change of being spin up in $x$ and the same to be spin down in $x$."
   ]
  },
  {
   "attachments": {},
   "cell_type": "markdown",
   "metadata": {},
   "source": [
    "# Spin $1/2$ Matrices:"
   ]
  },
  {
   "attachments": {},
   "cell_type": "markdown",
   "metadata": {},
   "source": [
    "$$\\begin{align*}\\hat S_x=\\frac 12\\begin{bmatrix}0&1\\\\1&0\\end{bmatrix} && \\hat S_y=\\frac 12\\begin{bmatrix}0&-i\\\\i&0\\end{bmatrix} && \\hat S_z=\\frac 12\\begin{bmatrix}1&0\\\\0&-1\\end{bmatrix} && S^2=S_{\\vec x}^2\\end{align*}$$ "
   ]
  },
  {
   "cell_type": "code",
   "execution_count": 2,
   "metadata": {},
   "outputs": [],
   "source": [
    "Sx_a = smp.Rational(1, 2) * smp.Matrix([[0, 1], \n",
    "                                       [1, 0]])\n",
    "\n",
    "Sy_a = smp.Rational(1, 2) * smp.Matrix([[0, -smp.I], \n",
    "                                       [smp.I, 0]])\n",
    "\n",
    "Sz_a = smp.Rational(1, 2) * smp.Matrix([[1, 0], \n",
    "                                       [0, -1]])\n",
    "\n",
    "S2_a = Sx_a @ Sx_a + Sy_a @ Sy_a + Sz_a @ Sz_a"
   ]
  },
  {
   "attachments": {},
   "cell_type": "markdown",
   "metadata": {},
   "source": [
    "# Spin $1$ Matrices:"
   ]
  },
  {
   "attachments": {},
   "cell_type": "markdown",
   "metadata": {},
   "source": [
    "$$\\begin{align*}S_x=\\frac 1{\\sqrt 2}\\begin{bmatrix}0&1&0\\\\1&0&1\\\\0&1&0\\end{bmatrix} && S_y=\\frac 1{\\sqrt 2}\\begin{bmatrix}0&-i&0\\\\i&0&-i\\\\0&i&0\\end{bmatrix} && S_z=\\begin{bmatrix}1&0&0\\\\0&0&0\\\\0&0&-1\\end{bmatrix} && S^2=S_x^2+S_y^2+S_z^2\\end{align*}$$"
   ]
  },
  {
   "cell_type": "code",
   "execution_count": 3,
   "metadata": {},
   "outputs": [],
   "source": [
    "Sx_b = 1 / smp.sqrt(2) * smp.Matrix([[0, 1, 0],\n",
    "                                     [1, 0, 1],\n",
    "                                     [0, 1, 0]])\n",
    "\n",
    "Sy_b = 1 / smp.sqrt(2) * smp.Matrix([[0, -smp.I, 0],\n",
    "                                     [smp.I, 0, -smp.I],\n",
    "                                     [0, smp.I, 0]])\n",
    "\n",
    "Sz_b = smp.Matrix([[1, 0, 0],\n",
    "                   [0, 0, 0],\n",
    "                   [0, 0, -1]])"
   ]
  },
  {
   "attachments": {},
   "cell_type": "markdown",
   "metadata": {},
   "source": [
    "All of these matrices are expressed in the basis of $S_z$ eigenvectors. This means that $S_z$ is written in such a form that $\\langle 1, 0\\rangle$ and $\\langle 0, 1\\rangle$ are eigenvectors $(s=1/2)$ or $\\langle 1,0,0\\rangle$, $\\langle 0,1,0\\rangle$ and $\\langle0,0,1\\rangle$ are eigenvectors $(s=1)$.\n",
    "- Spin $1/2$ have eigenvectors $\\langle 1,0\\rangle\\langle m=1/2\\rangle$ and $\\langle 0,1\\rangle\\langle m=-1/2\\rangle$\n",
    "- Spin $1$ have eigenvectors $\\langle 1,0,0\\rangle\\langle m=1\\rangle$, $\\langle 0,1,0\\rangle\\langle m=0\\rangle$ and $\\langle 0,0,1\\rangle\\langle m=-1\\rangle$"
   ]
  },
  {
   "cell_type": "code",
   "execution_count": 4,
   "metadata": {},
   "outputs": [
    {
     "data": {
      "text/latex": [
       "$\\displaystyle \\left[\\begin{matrix}0\\\\- \\frac{1}{2}\\end{matrix}\\right]$"
      ],
      "text/plain": [
       "Matrix([\n",
       "[   0],\n",
       "[-1/2]])"
      ]
     },
     "execution_count": 4,
     "metadata": {},
     "output_type": "execute_result"
    }
   ],
   "source": [
    "Sz_a @ smp.Matrix([0, 1])"
   ]
  },
  {
   "cell_type": "code",
   "execution_count": 5,
   "metadata": {},
   "outputs": [
    {
     "data": {
      "text/latex": [
       "$\\displaystyle \\left[\\begin{matrix}0\\\\0\\\\-1\\end{matrix}\\right]$"
      ],
      "text/plain": [
       "Matrix([\n",
       "[ 0],\n",
       "[ 0],\n",
       "[-1]])"
      ]
     },
     "execution_count": 5,
     "metadata": {},
     "output_type": "execute_result"
    }
   ],
   "source": [
    "Sz_b @ smp.Matrix([0, 0, 1])"
   ]
  },
  {
   "attachments": {},
   "cell_type": "markdown",
   "metadata": {},
   "source": [
    "Since $S^2$ commutes with $S_z$, they share common eigenvectors (makes sense, because spin $1/2$ for example. should be in an eigenstate with $s=1/2$):"
   ]
  },
  {
   "cell_type": "code",
   "execution_count": 6,
   "metadata": {},
   "outputs": [
    {
     "data": {
      "text/latex": [
       "$\\displaystyle \\left[\\begin{matrix}0 & 0\\\\0 & 0\\end{matrix}\\right]$"
      ],
      "text/plain": [
       "Matrix([\n",
       "[0, 0],\n",
       "[0, 0]])"
      ]
     },
     "execution_count": 6,
     "metadata": {},
     "output_type": "execute_result"
    }
   ],
   "source": [
    "Sz_a @ Sz_a - Sz_a @ Sz_a"
   ]
  },
  {
   "cell_type": "code",
   "execution_count": 7,
   "metadata": {},
   "outputs": [
    {
     "data": {
      "text/latex": [
       "$\\displaystyle \\left[\\begin{matrix}0\\\\\\frac{3}{4}\\end{matrix}\\right]$"
      ],
      "text/plain": [
       "Matrix([\n",
       "[  0],\n",
       "[3/4]])"
      ]
     },
     "execution_count": 7,
     "metadata": {},
     "output_type": "execute_result"
    }
   ],
   "source": [
    "S2_a @ smp.Matrix([0, 1])"
   ]
  },
  {
   "attachments": {},
   "cell_type": "markdown",
   "metadata": {},
   "source": [
    "# Addition of Spins:"
   ]
  },
  {
   "attachments": {},
   "cell_type": "markdown",
   "metadata": {},
   "source": [
    "Now, if we put a Spin $1$ and Spin $1/2$ particle together, we need a vector that takes into account alll possible states $$\\begin{bmatrix}\\langle1,0,0\\rangle&\\mathrm{and}&\\langle1,0\\rangle\\\\\\langle0,1,0\\rangle&\\mathrm{and}&\\langle1,0\\rangle\\\\\\langle0,0,1\\rangle&\\mathrm{and}&\\langle1,0\\rangle\\\\\\langle1,0,0\\rangle&\\mathrm{and}&\\langle0,1\\rangle\\\\\\langle0,1,0\\rangle&\\mathrm{and}&\\langle0,1\\rangle\\\\\\langle0,0,1\\rangle&\\mathrm{and}&\\langle0,1\\rangle\\end{bmatrix}\\hspace{15pt}\\mathrm{so}\\hspace{15pt}\\begin{bmatrix}0\\\\0\\\\1\\\\0\\\\0\\\\0\\end{bmatrix}\\hspace{15pt}\\mathrm{refers\\,to}\\,\\langle0,0,1\\rangle\\,\\mathrm{and}\\,\\langle1,0\\rangle$$ We can check the matrix that'll give us the $S_z$ for the Spin 1 particle $$\\begin{bmatrix}S_z&[0]_{3\\times3}\\\\ [0]_{3\\times3}&S_z\\end{bmatrix}=\\begin{bmatrix}1&0&0&0&0&0\\\\0&0&0&0&0&0\\\\0&0&-1&0&0&0\\\\0&0&0&1&0&0\\\\0&0&0&0&0&0\\\\0&0&0&0&0&-1\\end{bmatrix}$$ gives us the right values:"
   ]
  },
  {
   "cell_type": "code",
   "execution_count": 8,
   "metadata": {},
   "outputs": [
    {
     "data": {
      "text/latex": [
       "$\\displaystyle \\left[\\begin{matrix}1 & 0 & 0 & 0 & 0 & 0\\\\0 & 0 & 0 & 0 & 0 & 0\\\\0 & 0 & -1 & 0 & 0 & 0\\\\0 & 0 & 0 & 1 & 0 & 0\\\\0 & 0 & 0 & 0 & 0 & 0\\\\0 & 0 & 0 & 0 & 0 & -1\\end{matrix}\\right]$"
      ],
      "text/plain": [
       "Matrix([\n",
       "[1, 0,  0, 0, 0,  0],\n",
       "[0, 0,  0, 0, 0,  0],\n",
       "[0, 0, -1, 0, 0,  0],\n",
       "[0, 0,  0, 1, 0,  0],\n",
       "[0, 0,  0, 0, 0,  0],\n",
       "[0, 0,  0, 0, 0, -1]])"
      ]
     },
     "execution_count": 8,
     "metadata": {},
     "output_type": "execute_result"
    }
   ],
   "source": [
    "TensorProduct(smp.eye(2), Sz_b)"
   ]
  },
  {
   "cell_type": "code",
   "execution_count": 9,
   "metadata": {},
   "outputs": [
    {
     "data": {
      "text/latex": [
       "$\\displaystyle \\left[\\begin{matrix}0\\\\0\\\\-1\\\\0\\\\0\\\\0\\end{matrix}\\right]$"
      ],
      "text/plain": [
       "Matrix([\n",
       "[ 0],\n",
       "[ 0],\n",
       "[-1],\n",
       "[ 0],\n",
       "[ 0],\n",
       "[ 0]])"
      ]
     },
     "execution_count": 9,
     "metadata": {},
     "output_type": "execute_result"
    }
   ],
   "source": [
    "TensorProduct(smp.eye(2), Sz_b) @ smp.Matrix([0, 0, 1, 0, 0, 0])"
   ]
  },
  {
   "attachments": {},
   "cell_type": "markdown",
   "metadata": {},
   "source": [
    "For the Spin $1/2$ particles, check that $$\\frac 12\\begin{bmatrix}1I_{3\\times3}&0I_{3\\times3}\\\\0I_{3\\times3}&-1I_{3\\times3}\\end{bmatrix}=\\frac 12\\begin{bmatrix}1&0&0&0&0&0\\\\0&1&0&0&0&0\\\\0&0&1&0&0&0\\\\0&0&0&-1&0&0\\\\0&0&0&0&-1&0\\\\0&0&0&0&0&-1\\end{bmatrix}$$ gives the right values:"
   ]
  },
  {
   "cell_type": "code",
   "execution_count": 10,
   "metadata": {},
   "outputs": [
    {
     "data": {
      "text/latex": [
       "$\\displaystyle \\left[\\begin{matrix}\\frac{1}{2} & 0 & 0 & 0 & 0 & 0\\\\0 & \\frac{1}{2} & 0 & 0 & 0 & 0\\\\0 & 0 & \\frac{1}{2} & 0 & 0 & 0\\\\0 & 0 & 0 & - \\frac{1}{2} & 0 & 0\\\\0 & 0 & 0 & 0 & - \\frac{1}{2} & 0\\\\0 & 0 & 0 & 0 & 0 & - \\frac{1}{2}\\end{matrix}\\right]$"
      ],
      "text/plain": [
       "Matrix([\n",
       "[1/2,   0,   0,    0,    0,    0],\n",
       "[  0, 1/2,   0,    0,    0,    0],\n",
       "[  0,   0, 1/2,    0,    0,    0],\n",
       "[  0,   0,   0, -1/2,    0,    0],\n",
       "[  0,   0,   0,    0, -1/2,    0],\n",
       "[  0,   0,   0,    0,    0, -1/2]])"
      ]
     },
     "execution_count": 10,
     "metadata": {},
     "output_type": "execute_result"
    }
   ],
   "source": [
    "TensorProduct(Sz_a, smp.eye(3))"
   ]
  },
  {
   "cell_type": "code",
   "execution_count": 11,
   "metadata": {},
   "outputs": [
    {
     "data": {
      "text/latex": [
       "$\\displaystyle \\left[\\begin{matrix}\\frac{1}{2}\\\\0\\\\0\\\\0\\\\0\\\\0\\end{matrix}\\right]$"
      ],
      "text/plain": [
       "Matrix([\n",
       "[1/2],\n",
       "[  0],\n",
       "[  0],\n",
       "[  0],\n",
       "[  0],\n",
       "[  0]])"
      ]
     },
     "execution_count": 11,
     "metadata": {},
     "output_type": "execute_result"
    }
   ],
   "source": [
    "TensorProduct(Sz_a, smp.eye(3)) @ smp.Matrix([1, 0, 0, 0, 0, 0])"
   ]
  },
  {
   "attachments": {},
   "cell_type": "markdown",
   "metadata": {},
   "source": [
    "We need to add both matrices to get the sum of the $z$-components:"
   ]
  },
  {
   "cell_type": "code",
   "execution_count": 12,
   "metadata": {},
   "outputs": [
    {
     "data": {
      "text/latex": [
       "$\\displaystyle \\left[\\begin{matrix}\\frac{3}{2}\\\\0\\\\0\\\\0\\\\0\\\\0\\end{matrix}\\right]$"
      ],
      "text/plain": [
       "Matrix([\n",
       "[3/2],\n",
       "[  0],\n",
       "[  0],\n",
       "[  0],\n",
       "[  0],\n",
       "[  0]])"
      ]
     },
     "execution_count": 12,
     "metadata": {},
     "output_type": "execute_result"
    }
   ],
   "source": [
    "(TensorProduct(Sz_a, smp.eye(3)) + TensorProduct(smp.eye(2), Sz_b)) @ (smp.Matrix([1, 0, 0, 0, 0, 0]))"
   ]
  },
  {
   "attachments": {},
   "cell_type": "markdown",
   "metadata": {},
   "source": [
    "So we can create these matrices for the total $S_{\\vec x}:$"
   ]
  },
  {
   "cell_type": "code",
   "execution_count": 13,
   "metadata": {},
   "outputs": [],
   "source": [
    "Sx_2 = TensorProduct(smp.eye(2), Sx_b) + TensorProduct(Sx_a, smp.eye(3))\n",
    "Sy_2 = TensorProduct(smp.eye(2), Sy_b) + TensorProduct(Sy_a, smp.eye(3))\n",
    "Sz_2 = TensorProduct(smp.eye(2), Sz_b) + TensorProduct(Sz_a, smp.eye(3))\n",
    "\n",
    "S2_2 = Sx_2 @ Sx_2 + Sy_2 @ Sy_2 + Sz_2 @ Sz_2"
   ]
  },
  {
   "attachments": {},
   "cell_type": "markdown",
   "metadata": {},
   "source": [
    "Like beforem the total spin $S^2$ and $S_z$ matrices commute, meaning that they share a common eigenspace:"
   ]
  },
  {
   "cell_type": "code",
   "execution_count": 14,
   "metadata": {},
   "outputs": [
    {
     "data": {
      "text/latex": [
       "$\\displaystyle \\left[\\begin{matrix}0 & 0 & 0 & 0 & 0 & 0\\\\0 & 0 & 0 & 0 & 0 & 0\\\\0 & 0 & 0 & 0 & 0 & 0\\\\0 & 0 & 0 & 0 & 0 & 0\\\\0 & 0 & 0 & 0 & 0 & 0\\\\0 & 0 & 0 & 0 & 0 & 0\\end{matrix}\\right]$"
      ],
      "text/plain": [
       "Matrix([\n",
       "[0, 0, 0, 0, 0, 0],\n",
       "[0, 0, 0, 0, 0, 0],\n",
       "[0, 0, 0, 0, 0, 0],\n",
       "[0, 0, 0, 0, 0, 0],\n",
       "[0, 0, 0, 0, 0, 0],\n",
       "[0, 0, 0, 0, 0, 0]])"
      ]
     },
     "execution_count": 14,
     "metadata": {},
     "output_type": "execute_result"
    }
   ],
   "source": [
    "S2_2 @ Sz_2 - Sz_2 @ S2_2"
   ]
  },
  {
   "attachments": {},
   "cell_type": "markdown",
   "metadata": {},
   "source": [
    "So now we can get the eigenvectors $\\psi_{S^2}$ for the total $S^2$, and these will also be the eigenvectors for the total $S_z$. Furthermore, they'll be written in terms of the basis representing the $z$-spin of each of the two particles: $$\\begin{bmatrix}\\langle1,0,0\\rangle&\\mathrm{and}&\\langle1,0\\rangle\\\\\\langle0,1,0\\rangle&\\mathrm{and}&\\langle1,0\\rangle\\\\\\langle0,0,1\\rangle&\\mathrm{and}&\\langle1,0\\rangle\\\\\\langle1,0,0\\rangle&\\mathrm{and}&\\langle0,1\\rangle\\\\\\langle0,1,0\\rangle&\\mathrm{and}&\\langle0,1\\rangle\\\\\\langle0,0,1\\rangle&\\mathrm{and}&\\langle0,1\\rangle\\end{bmatrix}$$ This is precisely what the Clebsch-Gordan Coefficients give us."
   ]
  },
  {
   "attachments": {},
   "cell_type": "markdown",
   "metadata": {},
   "source": [
    "Getting the eigenvectors $\\psi_{S^2}$ of $S^2:$"
   ]
  },
  {
   "cell_type": "code",
   "execution_count": 15,
   "metadata": {},
   "outputs": [
    {
     "data": {
      "text/plain": [
       "[(3/4,\n",
       "  2,\n",
       "  [Matrix([\n",
       "   [         0],\n",
       "   [-sqrt(2)/2],\n",
       "   [         0],\n",
       "   [         1],\n",
       "   [         0],\n",
       "   [         0]]),\n",
       "   Matrix([\n",
       "   [       0],\n",
       "   [       0],\n",
       "   [-sqrt(2)],\n",
       "   [       0],\n",
       "   [       1],\n",
       "   [       0]])]),\n",
       " (15/4,\n",
       "  4,\n",
       "  [Matrix([\n",
       "   [1],\n",
       "   [0],\n",
       "   [0],\n",
       "   [0],\n",
       "   [0],\n",
       "   [0]]),\n",
       "   Matrix([\n",
       "   [      0],\n",
       "   [sqrt(2)],\n",
       "   [      0],\n",
       "   [      1],\n",
       "   [      0],\n",
       "   [      0]]),\n",
       "   Matrix([\n",
       "   [        0],\n",
       "   [        0],\n",
       "   [sqrt(2)/2],\n",
       "   [        0],\n",
       "   [        1],\n",
       "   [        0]]),\n",
       "   Matrix([\n",
       "   [0],\n",
       "   [0],\n",
       "   [0],\n",
       "   [0],\n",
       "   [0],\n",
       "   [1]])])]"
      ]
     },
     "execution_count": 15,
     "metadata": {},
     "output_type": "execute_result"
    }
   ],
   "source": [
    "info = S2_2.eigenvects(simplify = True)\n",
    "info"
   ]
  },
  {
   "attachments": {},
   "cell_type": "markdown",
   "metadata": {},
   "source": [
    "We can get the eigenenergies separately, and noting that $S^2\\psi_{S^2}=s(s+1)\\psi_{S^2}$ we can extract the Total Spin $s$. The Eigenenergy $$\\epsilon=s(s+1)\\implies s=\\frac{-1+\\sqrt{1+4\\epsilon}}2$$"
   ]
  },
  {
   "cell_type": "code",
   "execution_count": 16,
   "metadata": {},
   "outputs": [
    {
     "data": {
      "text/latex": [
       "$\\displaystyle \\left[\\begin{matrix}1.5 & 0.5 & 1.5 & 0.5 & 1.5 & 1.5\\end{matrix}\\right]$"
      ],
      "text/plain": [
       "Matrix([[1.5, 0.5, 1.5, 0.5, 1.5, 1.5]])"
      ]
     },
     "execution_count": 16,
     "metadata": {},
     "output_type": "execute_result"
    }
   ],
   "source": [
    "eig_energies = np.array(S2_2.eigenvals(multiple = True), dtype = float)\n",
    "tot_spins = smp.Matrix((-1 + np.sqrt(1 + 4 * eig_energies)) / 2)\n",
    "\n",
    "tot_spins.T"
   ]
  },
  {
   "attachments": {},
   "cell_type": "markdown",
   "metadata": {},
   "source": [
    "We know that all eigenvectors $\\psi_{S^2}$ of $S^2$ are also eigenvectors for $S_z$. Since $S_z\\psi_{S^2}=s_z\\psi_{S^2}$ and the $\\psi$'s are normalized, we get $$s_z=\\psi_{S^2}S_z\\psi_{S^2}$$"
   ]
  },
  {
   "cell_type": "code",
   "execution_count": 17,
   "metadata": {},
   "outputs": [
    {
     "data": {
      "text/latex": [
       "$\\displaystyle \\left[\\begin{matrix}\\frac{1}{2} & - \\frac{1}{2} & \\frac{3}{2} & \\frac{1}{2} & - \\frac{1}{2} & - \\frac{3}{2}\\end{matrix}\\right]$"
      ],
      "text/plain": [
       "Matrix([[1/2, -1/2, 3/2, 1/2, -1/2, -3/2]])"
      ]
     },
     "execution_count": 17,
     "metadata": {},
     "output_type": "execute_result"
    }
   ],
   "source": [
    "eig_vecs = [vec / vec.norm() for le in info for vec in le[2]]\n",
    "z_spins = smp.Matrix([eig_vecs[i].T @ Sz_2 @ eig_vecs[i] for i in range(len(eig_vecs))]).T\n",
    "\n",
    "z_spins"
   ]
  },
  {
   "cell_type": "code",
   "execution_count": 18,
   "metadata": {},
   "outputs": [
    {
     "data": {
      "text/latex": [
       "$\\displaystyle \\left[\\begin{matrix}0 & 0 & \\frac{2}{3} & 0 & \\frac{1}{3} & 0\\end{matrix}\\right]$"
      ],
      "text/plain": [
       "Matrix([[0, 0, 2/3, 0, 1/3, 0]])"
      ]
     },
     "execution_count": 18,
     "metadata": {},
     "output_type": "execute_result"
    }
   ],
   "source": [
    "matrix_multiply_elementwise(eig_vecs[1], eig_vecs[1]).T"
   ]
  },
  {
   "attachments": {},
   "cell_type": "markdown",
   "metadata": {},
   "source": [
    "The Vector is $$\\begin{bmatrix}\\langle1,0,0\\rangle&\\mathrm{and}&\\langle1,0\\rangle\\\\\\langle0,1,0\\rangle&\\mathrm{and}&\\langle1,0\\rangle\\\\\\langle0,0,1\\rangle&\\mathrm{and}&\\langle1,0\\rangle\\\\\\langle1,0,0\\rangle&\\mathrm{and}&\\langle0,1\\rangle\\\\\\langle0,1,0\\rangle&\\mathrm{and}&\\langle0,1\\rangle\\\\\\langle0,0,1\\rangle&\\mathrm{and}&\\langle0,1\\rangle\\end{bmatrix}$$ and:"
   ]
  },
  {
   "cell_type": "code",
   "execution_count": 19,
   "metadata": {},
   "outputs": [
    {
     "data": {
      "text/latex": [
       "$\\displaystyle \\left[\\begin{matrix}1.5 & 0.5 & 1.5 & 0.5 & 1.5 & 1.5\\end{matrix}\\right]$"
      ],
      "text/plain": [
       "Matrix([[1.5, 0.5, 1.5, 0.5, 1.5, 1.5]])"
      ]
     },
     "execution_count": 19,
     "metadata": {},
     "output_type": "execute_result"
    }
   ],
   "source": [
    "tot_spins.T"
   ]
  },
  {
   "cell_type": "code",
   "execution_count": 20,
   "metadata": {},
   "outputs": [
    {
     "data": {
      "text/latex": [
       "$\\displaystyle \\left[\\begin{matrix}\\frac{1}{2} & - \\frac{1}{2} & \\frac{3}{2} & \\frac{1}{2} & - \\frac{1}{2} & - \\frac{3}{2}\\end{matrix}\\right]$"
      ],
      "text/plain": [
       "Matrix([[1/2, -1/2, 3/2, 1/2, -1/2, -3/2]])"
      ]
     },
     "execution_count": 20,
     "metadata": {},
     "output_type": "execute_result"
    }
   ],
   "source": [
    "z_spins"
   ]
  },
  {
   "cell_type": "code",
   "execution_count": 21,
   "metadata": {},
   "outputs": [
    {
     "data": {
      "text/latex": [
       "$\\displaystyle \\left[\\begin{matrix}0 & - \\frac{\\sqrt{3}}{3} & 0 & \\frac{\\sqrt{6}}{3} & 0 & 0\\end{matrix}\\right]$"
      ],
      "text/plain": [
       "Matrix([[0, -sqrt(3)/3, 0, sqrt(6)/3, 0, 0]])"
      ]
     },
     "execution_count": 21,
     "metadata": {},
     "output_type": "execute_result"
    }
   ],
   "source": [
    "eig_vecs[0].T"
   ]
  },
  {
   "attachments": {},
   "cell_type": "markdown",
   "metadata": {},
   "source": [
    "Or, in Griffith's Notation:$$\\ket{1/2,-1/2}=-\\sqrt\\frac 23\\ket{1,-1}\\ket{1/2,1/2}+\\sqrt\\frac 13\\ket{1,0}\\ket{1/2,-1/2}$$"
   ]
  }
 ],
 "metadata": {
  "kernelspec": {
   "display_name": "Python 3",
   "language": "python",
   "name": "python3"
  },
  "language_info": {
   "codemirror_mode": {
    "name": "ipython",
    "version": 3
   },
   "file_extension": ".py",
   "mimetype": "text/x-python",
   "name": "python",
   "nbconvert_exporter": "python",
   "pygments_lexer": "ipython3",
   "version": "3.12.1"
  },
  "orig_nbformat": 4
 },
 "nbformat": 4,
 "nbformat_minor": 2
}
