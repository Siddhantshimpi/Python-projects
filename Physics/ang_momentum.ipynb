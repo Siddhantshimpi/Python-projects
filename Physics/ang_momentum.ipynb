{
 "cells": [
  {
   "cell_type": "code",
   "execution_count": 2,
   "metadata": {},
   "outputs": [],
   "source": [
    "import numpy as np, sympy as smp\n",
    "from sympy.physics.quantum import TensorProduct\n",
    "from sympy.matrices import matrix_multiply_elementwise"
   ]
  },
  {
   "attachments": {},
   "cell_type": "markdown",
   "metadata": {},
   "source": [
    "# The Spin Matrices:"
   ]
  },
  {
   "attachments": {},
   "cell_type": "markdown",
   "metadata": {},
   "source": [
    "A *Quantum State* is $\\ket\\psi=\\sum C_a\\ket\\psi_a$ where $\\ket\\psi_a$ are the eigenvectors of some Operator $\\hat A$, which represents the observable $A$. This means that $$\\hat A\\ket\\psi_a=a\\ket\\psi_a$$\n",
    "\n",
    "- The Probability of measuring the eigenvalue $a$ is $|C_a|^2$. If $\\ket\\psi=\\ket\\psi_a$ (already an eigenvector state), then the probability of measuring $a$ is 1.\n",
    "- A particle with spin $1/2$ can either be spin up or spin down along some axis, so we can represent the Operator $\\hat S_z$ and its corresponding eigenvalues as $$\\begin{align*}\\hat S_z=\\frac 12\\begin{bmatrix}1&0\\\\0&-1\\end{bmatrix} && \\ket\\psi_{z,1/2}=\\begin{bmatrix}1\\\\0\\end{bmatrix} && \\ket\\psi_{z,-1/2}=\\begin{bmatrix}0\\\\1\\end{bmatrix}\\end{align*}$$ \n",
    "- In this basis, the Spin Matrix $\\hat S_z$ has the following form with the following eigenvectors (we **make** it so, so that a state with definite $z$-spin has a 50 % change of being spin up in $x$, and a 50 % change of being spin down in $x$ after being in a $z$-eigenstate): $$\\begin{align*}\\hat S_z=\\frac 12\\begin{bmatrix}0&1\\\\1&0\\end{bmatrix} && \\ket\\psi_{x,1/2}=\\frac 1{\\sqrt 2}\\begin{bmatrix}1\\\\1\\end{bmatrix} && \\ket\\psi_{x,-1/2}=\\frac 1{\\sqrt 2}\\begin{bmatrix}1\\\\-1\\end{bmatrix}\\end{align*}$$ \n",
    "- This follows directly from the *Stern-Gerlach Experiment,* where a beam of $\\ket\\psi_{z,1/2}$ particles were found to have a 50 % change of being spin up in $x$ and the same to be spin down in $x$."
   ]
  },
  {
   "attachments": {},
   "cell_type": "markdown",
   "metadata": {},
   "source": [
    "# Spin $1/2$ Matrices:"
   ]
  },
  {
   "attachments": {},
   "cell_type": "markdown",
   "metadata": {},
   "source": [
    "$$\\begin{align*}\\hat S_x=\\frac 12\\begin{bmatrix}0&1\\\\1&0\\end{bmatrix} && \\hat S_y=\\frac 12\\begin{bmatrix}0&-i\\\\i&0\\end{bmatrix} && \\hat S_z=\\frac 12\\begin{bmatrix}1&0\\\\0&-1\\end{bmatrix} && S^2=S_{\\vec x}^2\\end{align*}$$ "
   ]
  },
  {
   "cell_type": "code",
   "execution_count": 3,
   "metadata": {},
   "outputs": [],
   "source": [
    "Sx_a = smp.Rational(1, 2) * smp.Matrix([[0, 1], \n",
    "                                       [1, 0]])\n",
    "\n",
    "Sy_a = smp.Rational(1, 2) * smp.Matrix([[0, -smp.I], \n",
    "                                       [smp.I, 0]])\n",
    "\n",
    "Sz_a = smp.Rational(1, 2) * smp.Matrix([[1, 0], \n",
    "                                       [0, -1]])\n",
    "\n",
    "S2_a = Sx_a @ Sx_a + Sy_a @ Sy_a + Sz_a @ Sz_a"
   ]
  },
  {
   "attachments": {},
   "cell_type": "markdown",
   "metadata": {},
   "source": [
    "# Spin $1$ Matrices:"
   ]
  },
  {
   "attachments": {},
   "cell_type": "markdown",
   "metadata": {},
   "source": [
    "$$\\begin{align*}S_x=\\frac 1{\\sqrt 2}\\begin{bmatrix}0&1&0\\\\1&0&1\\\\0&1&0\\end{bmatrix} && S_y=\\frac 1{\\sqrt 2}\\begin{bmatrix}0&-i&0\\\\i&0&-i\\\\0&i&0\\end{bmatrix} && S_z=\\begin{bmatrix}1&0&0\\\\0&0&0\\\\0&0&-1\\end{bmatrix} && S^2=S_x^2+S_y^2+S_z^2\\end{align*}$$"
   ]
  },
  {
   "cell_type": "code",
   "execution_count": 4,
   "metadata": {},
   "outputs": [],
   "source": [
    "Sx_b = 1 / smp.sqrt(2) * smp.Matrix([[0, 1, 0],\n",
    "                                     [1, 0, 1],\n",
    "                                     [0, 1, 0]])\n",
    "\n",
    "Sy_b = 1 / smp.sqrt(2) * smp.Matrix([[0, -smp.I, 0],\n",
    "                                     [smp.I, 0, -smp.I],\n",
    "                                     [0, smp.I, 0]])\n",
    "\n",
    "Sz_b = smp.Matrix([[1, 0, 0],\n",
    "                   [0, 0, 0],\n",
    "                   [0, 0, -1]])"
   ]
  },
  {
   "attachments": {},
   "cell_type": "markdown",
   "metadata": {},
   "source": [
    "All of these matrices are expressed in the basis of $S_z$ eigenvectors. This means that $S_z$ is written in such a form that $\\langle 1, 0\\rangle$ and $\\langle 0, 1\\rangle$ are eigenvectors $(s=1/2)$ or $\\langle 1,0,0\\rangle$, $\\langle 0,1,0\\rangle$ and $\\langle0,0,1\\rangle$ are eigenvectors $(s=1)$.\n",
    "- Spin $1/2$ have eigenvectors $\\langle 1,0\\rangle\\langle m=1/2\\rangle$ and $\\langle 0,1\\rangle\\langle m=-1/2\\rangle$\n",
    "- Spin $1$ have eigenvectors $\\langle 1,0,0\\rangle\\langle m=1\\rangle$, $\\langle 0,1,0\\rangle\\langle m=0\\rangle$ and $\\langle 0,0,1\\rangle\\langle m=-1\\rangle$"
   ]
  },
  {
   "cell_type": "code",
   "execution_count": 5,
   "metadata": {},
   "outputs": [
    {
     "data": {
      "text/latex": [
       "$\\displaystyle \\left[\\begin{matrix}0\\\\- \\frac{1}{2}\\end{matrix}\\right]$"
      ],
      "text/plain": [
       "Matrix([\n",
       "[   0],\n",
       "[-1/2]])"
      ]
     },
     "execution_count": 5,
     "metadata": {},
     "output_type": "execute_result"
    }
   ],
   "source": [
    "Sz_a @ smp.Matrix([0, 1])"
   ]
  },
  {
   "cell_type": "code",
   "execution_count": 6,
   "metadata": {},
   "outputs": [
    {
     "data": {
      "text/latex": [
       "$\\displaystyle \\left[\\begin{matrix}0\\\\0\\\\-1\\end{matrix}\\right]$"
      ],
      "text/plain": [
       "Matrix([\n",
       "[ 0],\n",
       "[ 0],\n",
       "[-1]])"
      ]
     },
     "execution_count": 6,
     "metadata": {},
     "output_type": "execute_result"
    }
   ],
   "source": [
    "Sz_b @ smp.Matrix([0, 0, 1])"
   ]
  },
  {
   "attachments": {},
   "cell_type": "markdown",
   "metadata": {},
   "source": [
    "Since $S^2$ commutes with $S_z$, they share common eigenvectors (makes sense, because spin $1/2$ for example. should be in an eigenstate with $s=1/2$):"
   ]
  },
  {
   "cell_type": "code",
   "execution_count": 7,
   "metadata": {},
   "outputs": [
    {
     "data": {
      "text/latex": [
       "$\\displaystyle \\left[\\begin{matrix}0 & 0\\\\0 & 0\\end{matrix}\\right]$"
      ],
      "text/plain": [
       "Matrix([\n",
       "[0, 0],\n",
       "[0, 0]])"
      ]
     },
     "execution_count": 7,
     "metadata": {},
     "output_type": "execute_result"
    }
   ],
   "source": [
    "Sz_a @ Sz_a - Sz_a @ Sz_a"
   ]
  },
  {
   "cell_type": "code",
   "execution_count": 8,
   "metadata": {},
   "outputs": [
    {
     "data": {
      "text/latex": [
       "$\\displaystyle \\left[\\begin{matrix}0\\\\\\frac{3}{4}\\end{matrix}\\right]$"
      ],
      "text/plain": [
       "Matrix([\n",
       "[  0],\n",
       "[3/4]])"
      ]
     },
     "execution_count": 8,
     "metadata": {},
     "output_type": "execute_result"
    }
   ],
   "source": [
    "S2_a @ smp.Matrix([0, 1])"
   ]
  },
  {
   "attachments": {},
   "cell_type": "markdown",
   "metadata": {},
   "source": [
    "# Addition of Spins:"
   ]
  },
  {
   "cell_type": "code",
   "execution_count": null,
   "metadata": {},
   "outputs": [],
   "source": []
  }
 ],
 "metadata": {
  "kernelspec": {
   "display_name": "Python 3",
   "language": "python",
   "name": "python3"
  },
  "language_info": {
   "codemirror_mode": {
    "name": "ipython",
    "version": 3
   },
   "file_extension": ".py",
   "mimetype": "text/x-python",
   "name": "python",
   "nbconvert_exporter": "python",
   "pygments_lexer": "ipython3",
   "version": "3.9.13"
  },
  "orig_nbformat": 4
 },
 "nbformat": 4,
 "nbformat_minor": 2
}
