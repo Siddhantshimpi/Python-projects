{
 "cells": [
  {
   "cell_type": "code",
   "execution_count": 54,
   "metadata": {},
   "outputs": [],
   "source": [
    "import torch, torch.nn as nn, matplotlib.pyplot as plt\n",
    "from torch.optim import SGD\n",
    "\n",
    "plt.style.use(['science', 'notebook', 'grid', 'dark_background'])"
   ]
  },
  {
   "attachments": {},
   "cell_type": "markdown",
   "metadata": {},
   "source": [
    "# Introduction:"
   ]
  },
  {
   "attachments": {},
   "cell_type": "markdown",
   "metadata": {},
   "source": [
    "Suppose we have the dataset $\\vec x$ consisting of an independent and a dependent vector $x_i$ and $y_i$ ($i$ is the $i^\\mathrm{th}$ value in the dataset). The goal of a Neural Network is as follows:\n",
    "\n",
    "Define a function $f$ that depends on parameters $a_i$ that makes predictions as $$\\hat y_i=f(x_i;a_i)$$ We want to make the predictions $\\hat y_i$ and the true values $y_i$ as close as possible to the values of $a_i$, the methodology depends on the actual task. In general, we define a Similarity Function (or Loss Function) $L(y,\\hat y)$. The more similar $y_i$ and $\\hat y_i$ are, the smaller $L$ should be. This could be as simple as, for example: $$L(y,\\hat y)=\\sum_i(y_i-\\hat y_i)^2$$"
   ]
  },
  {
   "cell_type": "code",
   "execution_count": 55,
   "metadata": {},
   "outputs": [
    {
     "data": {
      "text/plain": [
       "(tensor([[6., 2.],\n",
       "         [5., 2.],\n",
       "         [1., 3.],\n",
       "         [7., 6.]]),\n",
       " tensor([1., 5., 2., 5.]))"
      ]
     },
     "execution_count": 55,
     "metadata": {},
     "output_type": "execute_result"
    }
   ],
   "source": [
    "x = torch.tensor([[6, 2], [5, 2], [1, 3], [7, 6]]).float()\n",
    "y = torch.tensor([1, 5, 2, 5]).float()\n",
    "\n",
    "x, y"
   ]
  },
  {
   "attachments": {},
   "cell_type": "markdown",
   "metadata": {},
   "source": [
    "We wanna find a function with parameters $a_i$ that lets us get from $x$ to $y$. The idea is to \n",
    "1. First multiply each element in $x$ by a 8 x 2 matrix (16 parameters $a_i$)\n",
    "2. Then to the same, but by a 1 x 8 matrix this time (8 parameters $a_i$)\n",
    "\n",
    "We'll hence define a matrix that takes in a 2d vector and returns an 8d vector:"
   ]
  },
  {
   "cell_type": "code",
   "execution_count": 56,
   "metadata": {},
   "outputs": [
    {
     "data": {
      "text/plain": [
       "Linear(in_features=2, out_features=8, bias=False)"
      ]
     },
     "execution_count": 56,
     "metadata": {},
     "output_type": "execute_result"
    }
   ],
   "source": [
    "M1 = nn.Linear(2, 8, bias = False)\n",
    "M1"
   ]
  },
  {
   "attachments": {},
   "cell_type": "markdown",
   "metadata": {},
   "source": [
    "If we pass in the dataset $\\vec x$ where each element (or instance) $x_i$ is a 2d vector. $M$ will apply the same matrix multiplication to each element $x_i$."
   ]
  },
  {
   "cell_type": "code",
   "execution_count": 57,
   "metadata": {},
   "outputs": [
    {
     "data": {
      "text/plain": [
       "tensor([[-2.2607, -1.4337, -3.0233, -1.8528, -3.3092,  1.2012,  3.6561,  3.8370],\n",
       "        [-1.9337, -1.2325, -2.6297, -1.7149, -2.7035,  0.9890,  3.2117,  3.2535],\n",
       "        [-0.7752, -0.5415, -1.3863, -1.6761, -0.1185,  0.1042,  1.9287,  1.0880],\n",
       "        [-3.1854, -2.0886, -4.7404, -4.0417, -3.2653,  1.2693,  6.0795,  5.0931]],\n",
       "       grad_fn=<MmBackward0>)"
      ]
     },
     "execution_count": 57,
     "metadata": {},
     "output_type": "execute_result"
    }
   ],
   "source": [
    "M1(x)"
   ]
  },
  {
   "cell_type": "code",
   "execution_count": 30,
   "metadata": {},
   "outputs": [
    {
     "data": {
      "text/plain": [
       "Linear(in_features=8, out_features=1, bias=False)"
      ]
     },
     "execution_count": 30,
     "metadata": {},
     "output_type": "execute_result"
    }
   ],
   "source": [
    "M2 = nn.Linear(8, 1, bias = False)\n",
    "M2"
   ]
  },
  {
   "cell_type": "code",
   "execution_count": 31,
   "metadata": {},
   "outputs": [
    {
     "data": {
      "text/plain": [
       "tensor([[-1.4120],\n",
       "        [-1.3025],\n",
       "        [-1.2419],\n",
       "        [-3.0314]], grad_fn=<MmBackward0>)"
      ]
     },
     "execution_count": 31,
     "metadata": {},
     "output_type": "execute_result"
    }
   ],
   "source": [
    "M2(M1(x))"
   ]
  },
  {
   "attachments": {},
   "cell_type": "markdown",
   "metadata": {},
   "source": [
    "The weights of the matrices $M1$ and $M2$ constitute the weights of $a_i$ of the network defined above. In order to optimize for these weights, we first construct our network $f$ as follows:"
   ]
  },
  {
   "cell_type": "code",
   "execution_count": 58,
   "metadata": {},
   "outputs": [],
   "source": [
    "class MyNeuralNetwork(nn.Module):\n",
    "    def __init__(self):\n",
    "        super().__init__()\n",
    "\n",
    "        self.Matrix1 = nn.Linear(2, 8, bias = False)\n",
    "        self.Matrix2 = nn.Linear(8, 1, bias = False)\n",
    "\n",
    "    def forward(self, x):\n",
    "        x = self.Matrix1(x)\n",
    "        x = self.Matrix2(x)\n",
    "\n",
    "        return x.squeeze()"
   ]
  },
  {
   "attachments": {},
   "cell_type": "markdown",
   "metadata": {},
   "source": [
    "Constructing the network using a subclass of the 'nn.Module' allows the network parameters to be conviniently stored. This'll be useful later, when we need to adjust them."
   ]
  },
  {
   "cell_type": "code",
   "execution_count": 59,
   "metadata": {},
   "outputs": [
    {
     "name": "stdout",
     "output_type": "stream",
     "text": [
      "Parameter containing:\n",
      "tensor([[-0.2955, -0.5988],\n",
      "        [ 0.4554,  0.5453],\n",
      "        [ 0.3827,  0.5578],\n",
      "        [-0.6997,  0.1061],\n",
      "        [-0.4237, -0.0187],\n",
      "        [-0.5034, -0.2461],\n",
      "        [ 0.2149, -0.0283],\n",
      "        [-0.4476, -0.0657]], requires_grad=True)\n",
      "Parameter containing:\n",
      "tensor([[-0.3106,  0.3274,  0.2894, -0.3280,  0.2386,  0.1617, -0.2461, -0.0782]],\n",
      "       requires_grad=True)\n"
     ]
    }
   ],
   "source": [
    "f = MyNeuralNetwork()\n",
    "\n",
    "for par in f.parameters():\n",
    "    print(par)"
   ]
  },
  {
   "cell_type": "code",
   "execution_count": 60,
   "metadata": {},
   "outputs": [
    {
     "data": {
      "text/plain": [
       "(tensor([3.2026, 2.8219, 1.7579, 5.4196], grad_fn=<SqueezeBackward0>),\n",
       " tensor([1., 5., 2., 5.]))"
      ]
     },
     "execution_count": 60,
     "metadata": {},
     "output_type": "execute_result"
    }
   ],
   "source": [
    "y_hat = f(x)\n",
    "y_hat, y"
   ]
  },
  {
   "attachments": {},
   "cell_type": "markdown",
   "metadata": {},
   "source": [
    "# Adjusting $a_i$ so that $\\hat y$ and $y$ are similar:"
   ]
  },
  {
   "attachments": {},
   "cell_type": "markdown",
   "metadata": {},
   "source": [
    "Now we'll define the Loss Function $L$, which provides a metric of similarity between $y$ and $\\hat y$. In this case, we'll use the Mean Squared Error Loss Function:"
   ]
  },
  {
   "cell_type": "code",
   "execution_count": 61,
   "metadata": {},
   "outputs": [
    {
     "data": {
      "text/plain": [
       "tensor(2.4576, grad_fn=<MseLossBackward0>)"
      ]
     },
     "execution_count": 61,
     "metadata": {},
     "output_type": "execute_result"
    }
   ],
   "source": [
    "L = nn.MSELoss()\n",
    "L(y, y_hat)"
   ]
  },
  {
   "attachments": {},
   "cell_type": "markdown",
   "metadata": {},
   "source": [
    "Just confirming that it's doing the same thing as the Regular Mean-Squared Error:"
   ]
  },
  {
   "cell_type": "code",
   "execution_count": 62,
   "metadata": {},
   "outputs": [
    {
     "data": {
      "text/plain": [
       "tensor(2.4576, grad_fn=<MeanBackward0>)"
      ]
     },
     "execution_count": 62,
     "metadata": {},
     "output_type": "execute_result"
    }
   ],
   "source": [
    "torch.mean((y - y_hat) ** 2)"
   ]
  },
  {
   "attachments": {},
   "cell_type": "markdown",
   "metadata": {},
   "source": [
    "Note that $L$ is a function of $a_i$ since our predictions $\\hat y$ depend on the network parameters $a_i$. In this sense, $L=L(q)$. The main idea behind machine learning is to compute $$\\frac{\\partial L}{\\partial a_i}$$ for each network parameter $a_i$. We then adjust each parameter as $$a_i\\to a_i-\\mathscr{l}\\frac{\\partial L}{\\partial a_i}$$ where $\\mathscr{l}$ is the Learning Rate."
   ]
  },
  {
   "attachments": {},
   "cell_type": "markdown",
   "metadata": {},
   "source": [
    "We'll take an example of a Loss Function $L$ that depends only on one parameter $a$. Until we reach a minima for $L$, we'll repeat the aforementioned process again and again (what's called Gradient Descent). \n",
    "\n",
    "Each pass of the full dataset $\\vec x$ is called an epoch. We're evaluating $\\partial L/\\partial a_i$ on the entire dataset $\\vec x$ each time we iterate $a_i$ so each of those iterations corresponds to an epoch. \n",
    "\n",
    "The Stochastic Gradient Descent (or SGD) takes in all the model parameters $a_i$ along with the Learning Rate $\\mathscr{l}$:"
   ]
  },
  {
   "cell_type": "code",
   "execution_count": 63,
   "metadata": {},
   "outputs": [],
   "source": [
    "opt = SGD(f.parameters(), lr = 1e-03)"
   ]
  },
  {
   "attachments": {},
   "cell_type": "markdown",
   "metadata": {},
   "source": [
    "We adjust the parameters over and over:"
   ]
  },
  {
   "cell_type": "code",
   "execution_count": 64,
   "metadata": {},
   "outputs": [],
   "source": [
    "losses = []\n",
    "\n",
    "for _ in range(50):\n",
    "    opt.zero_grad()\n",
    "    \n",
    "    loss_value = L(f(x), y)\n",
    "    loss_value.backward()\n",
    "\n",
    "    opt.step()\n",
    "    losses.append(loss_value.item())"
   ]
  },
  {
   "attachments": {},
   "cell_type": "markdown",
   "metadata": {},
   "source": [
    "We'll now plot $L(a)$ as a function of the Number of Iterations:"
   ]
  },
  {
   "cell_type": "code",
   "execution_count": 65,
   "metadata": {},
   "outputs": [
    {
     "data": {
      "text/plain": [
       "Text(0, 0.5, 'Epochs')"
      ]
     },
     "execution_count": 65,
     "metadata": {},
     "output_type": "execute_result"
    },
    {
     "data": {
      "image/png": "[encoded data removed]",
      "text/plain": [
       "<Figure size 800x600 with 1 Axes>"
      ]
     },
     "metadata": {},
     "output_type": "display_data"
    }
   ],
   "source": [
    "plt.plot(losses)\n",
    "\n",
    "plt.title('The Loss Function for One Parameter')\n",
    "plt.xlabel(r'Loss $L(y,\\hat y;a)$')\n",
    "plt.ylabel('Epochs')"
   ]
  }
 ],
 "metadata": {
  "kernelspec": {
   "display_name": "Python 3",
   "language": "python",
   "name": "python3"
  },
  "language_info": {
   "codemirror_mode": {
    "name": "ipython",
    "version": 3
   },
   "file_extension": ".py",
   "mimetype": "text/x-python",
   "name": "python",
   "nbconvert_exporter": "python",
   "pygments_lexer": "ipython3",
   "version": "3.10.9"
  },
  "orig_nbformat": 4,
  "vscode": {
   "interpreter": {
    "hash": "e86d9026de2d19bb55d307aab591188e1f7cd5b8892ed03c4ba33ce5d5a31e86"
   }
  }
 },
 "nbformat": 4,
 "nbformat_minor": 2
}
